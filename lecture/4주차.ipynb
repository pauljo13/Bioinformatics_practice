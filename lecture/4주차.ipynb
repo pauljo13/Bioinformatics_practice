{
 "cells": [
  {
   "cell_type": "markdown",
   "id": "7682ff52",
   "metadata": {},
   "source": [
    "# Change working directory in python\n",
    "1. Set working directory in python IDE\n",
    "2. Change the current directory and start python (if you use terminal)\n",
    "3. Use os.chdir() (os module)"
   ]
  },
  {
   "cell_type": "code",
   "execution_count": 2,
   "id": "0689d65d",
   "metadata": {},
   "outputs": [
    {
     "data": {
      "text/plain": [
       "'/Users/bumsoojoe/Desktop/Study/Bioinformatics_practice/lecture/data'"
      ]
     },
     "execution_count": 2,
     "metadata": {},
     "output_type": "execute_result"
    }
   ],
   "source": [
    "import os\n",
    "os.getcwd()\n",
    "os.chdir('/Users/bumsoojoe/Desktop/Study/Bioinformatics_practice/lecture/data')\n",
    "os.getcwd()"
   ]
  },
  {
   "cell_type": "markdown",
   "id": "f286a1db",
   "metadata": {},
   "source": [
    "File object = open(filename, mode)\n",
    "- Mode\n",
    "    - ‘r’ – open for reading (default)\n",
    "    - ‘w’ – open for writing (overwrite if the file exists)\n",
    "    - ‘a’ = open for writing (append)\n",
    "    - ‘t’ – open in text mode (default)"
   ]
  },
  {
   "cell_type": "code",
   "execution_count": 4,
   "id": "d7121450",
   "metadata": {},
   "outputs": [],
   "source": [
    "new_file = open('myfile1.txt','w')\n",
    "new_file.close()"
   ]
  },
  {
   "cell_type": "code",
   "execution_count": 5,
   "id": "a64aaf67",
   "metadata": {},
   "outputs": [],
   "source": [
    "new_file = open('myfile2.txt','w')\n",
    "new_file.write('line number 1 \\n')\n",
    "new_file.write('line number 2 \\n')\n",
    "new_file.close()"
   ]
  },
  {
   "cell_type": "code",
   "execution_count": 6,
   "id": "6a209038",
   "metadata": {},
   "outputs": [],
   "source": [
    "new_file = open('myfile2.txt','a')\n",
    "for i in range(3,7):\n",
    "    new_file.write('line number %s \\n' %i)\n",
    "new_file.close()"
   ]
  },
  {
   "cell_type": "code",
   "execution_count": 8,
   "id": "bc1580f5",
   "metadata": {},
   "outputs": [
    {
     "name": "stdout",
     "output_type": "stream",
     "text": [
      "['line number 1', 'line number 2', 'line number 3', 'line number 4', 'line number 5', 'line number 6', 'line number 7', 'line number 8', 'line number 9']\n"
     ]
    }
   ],
   "source": [
    "mylist = [f'line number {i}' for i in range(1,10)]\n",
    "print(mylist)\n",
    "new_file = open('myfile2.txt', 'w')\n",
    "new_file.write('\\n'.join(mylist))\n",
    "new_file.write('\\n')\n",
    "new_file.close()"
   ]
  },
  {
   "cell_type": "code",
   "execution_count": 9,
   "id": "947d6fc7",
   "metadata": {},
   "outputs": [],
   "source": [
    "with open('myfile2.txt', 'w') as new_file:\n",
    "    new_file.write('\\n'.join(mylist))\n",
    "    new_file.write('\\n')\n",
    "new_file.close()"
   ]
  },
  {
   "cell_type": "code",
   "execution_count": 50,
   "id": "e8e09387",
   "metadata": {},
   "outputs": [],
   "source": [
    "# Quiz\n",
    "new_file = open('myseq2.txt', 'w')\n",
    "nt_pairH = {'A':'T', 'T': 'A', 'C':'G', 'G':'C'}\n",
    "seq = 'AATCTCGGCAAA'\n",
    "new_file.write(seq + '\\n')\n",
    "# rev_seq = ''.join([nt_pairH.get(n, 'X') for n in seq])\n",
    "# new_file.write(rev_seq + '\\n')\n",
    "revcom_seq = ''.join([nt_pairH.get(n, 'X') for n in seq[::-1]])\n",
    "new_file.write(revcom_seq + '\\n')\n",
    "new_file.close()"
   ]
  },
  {
   "cell_type": "markdown",
   "id": "a1b0f735",
   "metadata": {},
   "source": [
    "## Read a text file\n",
    "1. read(n) – read a string corresponding to the next block of n characters\n",
    "2. readline(n) – returns the next n characters from the next line\n",
    "3. readlines() – returns a list of strings with all the lines in the file"
   ]
  },
  {
   "cell_type": "code",
   "execution_count": null,
   "id": "e2ec0cd1",
   "metadata": {},
   "outputs": [
    {
     "ename": "FileNotFoundError",
     "evalue": "[Errno 2] No such file or directory: 'myfile3.txt'",
     "output_type": "error",
     "traceback": [
      "\u001b[31m---------------------------------------------------------------------------\u001b[39m",
      "\u001b[31mFileNotFoundError\u001b[39m                         Traceback (most recent call last)",
      "\u001b[36mCell\u001b[39m\u001b[36m \u001b[39m\u001b[32mIn[17]\u001b[39m\u001b[32m, line 1\u001b[39m\n\u001b[32m----> \u001b[39m\u001b[32m1\u001b[39m myfile = \u001b[38;5;28;43mopen\u001b[39;49m\u001b[43m(\u001b[49m\u001b[33;43m'\u001b[39;49m\u001b[33;43mmyfile3.txt\u001b[39;49m\u001b[33;43m'\u001b[39;49m\u001b[43m)\u001b[49m\n",
      "\u001b[36mFile \u001b[39m\u001b[32m~/opt/anaconda3/envs/deepcam/lib/python3.11/site-packages/IPython/core/interactiveshell.py:343\u001b[39m, in \u001b[36m_modified_open\u001b[39m\u001b[34m(file, *args, **kwargs)\u001b[39m\n\u001b[32m    336\u001b[39m \u001b[38;5;28;01mif\u001b[39;00m file \u001b[38;5;129;01min\u001b[39;00m {\u001b[32m0\u001b[39m, \u001b[32m1\u001b[39m, \u001b[32m2\u001b[39m}:\n\u001b[32m    337\u001b[39m     \u001b[38;5;28;01mraise\u001b[39;00m \u001b[38;5;167;01mValueError\u001b[39;00m(\n\u001b[32m    338\u001b[39m         \u001b[33mf\u001b[39m\u001b[33m\"\u001b[39m\u001b[33mIPython won\u001b[39m\u001b[33m'\u001b[39m\u001b[33mt let you open fd=\u001b[39m\u001b[38;5;132;01m{\u001b[39;00mfile\u001b[38;5;132;01m}\u001b[39;00m\u001b[33m by default \u001b[39m\u001b[33m\"\u001b[39m\n\u001b[32m    339\u001b[39m         \u001b[33m\"\u001b[39m\u001b[33mas it is likely to crash IPython. If you know what you are doing, \u001b[39m\u001b[33m\"\u001b[39m\n\u001b[32m    340\u001b[39m         \u001b[33m\"\u001b[39m\u001b[33myou can use builtins\u001b[39m\u001b[33m'\u001b[39m\u001b[33m open.\u001b[39m\u001b[33m\"\u001b[39m\n\u001b[32m    341\u001b[39m     )\n\u001b[32m--> \u001b[39m\u001b[32m343\u001b[39m \u001b[38;5;28;01mreturn\u001b[39;00m \u001b[43mio_open\u001b[49m\u001b[43m(\u001b[49m\u001b[43mfile\u001b[49m\u001b[43m,\u001b[49m\u001b[43m \u001b[49m\u001b[43m*\u001b[49m\u001b[43margs\u001b[49m\u001b[43m,\u001b[49m\u001b[43m \u001b[49m\u001b[43m*\u001b[49m\u001b[43m*\u001b[49m\u001b[43mkwargs\u001b[49m\u001b[43m)\u001b[49m\n",
      "\u001b[31mFileNotFoundError\u001b[39m: [Errno 2] No such file or directory: 'myfile3.txt'"
     ]
    }
   ],
   "source": [
    "myfile = open('myfile3.txt') # 존재하는 파일만 읽을 수 있음"
   ]
  },
  {
   "cell_type": "code",
   "execution_count": null,
   "id": "b250d1e2",
   "metadata": {},
   "outputs": [
    {
     "name": "stdout",
     "output_type": "stream",
     "text": [
      "line number 1\n",
      "line number 2\n",
      "line number 3\n",
      "line number 4\n",
      "line number 5\n",
      "line number 6\n",
      "line number 7\n",
      "line number 8\n",
      "line number 9\n",
      "\n",
      "\n"
     ]
    }
   ],
   "source": [
    "# read\n",
    "myfile = open('myfile2.txt')\n",
    "print(myfile.read())\n",
    "myfile.close()"
   ]
  },
  {
   "cell_type": "code",
   "execution_count": 26,
   "id": "865fc226",
   "metadata": {},
   "outputs": [
    {
     "name": "stdout",
     "output_type": "stream",
     "text": [
      "li\n"
     ]
    }
   ],
   "source": [
    "myfile = open('myfile2.txt')\n",
    "print(myfile.read(2))\n",
    "myfile.close()"
   ]
  },
  {
   "cell_type": "code",
   "execution_count": 28,
   "id": "bd144c07",
   "metadata": {},
   "outputs": [],
   "source": [
    "with open('myfile2.txt') as myfile:\n",
    "    myfile.read()\n",
    "myfile.close()"
   ]
  },
  {
   "cell_type": "code",
   "execution_count": null,
   "id": "2f299359",
   "metadata": {},
   "outputs": [
    {
     "name": "stdout",
     "output_type": "stream",
     "text": [
      "['line number 1\\n', 'line number 2\\n', 'line number 3\\n', 'line number 4\\n', 'line number 5\\n', 'line number 6\\n', 'line number 7\\n', 'line number 8\\n', 'line number 9\\n']\n"
     ]
    }
   ],
   "source": [
    "# readlines() - 줄별로 리스트로 저장됨\n",
    "myfile = open('myfile2.txt')\n",
    "print(myfile.readlines())\n",
    "myfile.close()"
   ]
  },
  {
   "cell_type": "code",
   "execution_count": null,
   "id": "b5daaf78",
   "metadata": {},
   "outputs": [],
   "source": [
    "myfile = open('myfile2.txt') # 메모리를 많이 차지한다.\n",
    "myfile.readlines(3)\n",
    "myfile.close()"
   ]
  },
  {
   "cell_type": "code",
   "execution_count": 44,
   "id": "f005e0f9",
   "metadata": {},
   "outputs": [
    {
     "data": {
      "text/plain": [
       "'line number 1\\n'"
      ]
     },
     "execution_count": 44,
     "metadata": {},
     "output_type": "execute_result"
    }
   ],
   "source": [
    "# readline()\n",
    "myfile = open('myfile2.txt')\n",
    "myfile.readline()"
   ]
  },
  {
   "cell_type": "code",
   "execution_count": 45,
   "id": "d9e5da7b",
   "metadata": {},
   "outputs": [
    {
     "data": {
      "text/plain": [
       "'line number 2\\n'"
      ]
     },
     "execution_count": 45,
     "metadata": {},
     "output_type": "execute_result"
    }
   ],
   "source": [
    "myfile.readline()"
   ]
  },
  {
   "cell_type": "code",
   "execution_count": 46,
   "id": "0b9a0984",
   "metadata": {},
   "outputs": [
    {
     "data": {
      "text/plain": [
       "'lin'"
      ]
     },
     "execution_count": 46,
     "metadata": {},
     "output_type": "execute_result"
    }
   ],
   "source": [
    "myfile.readline(3)"
   ]
  },
  {
   "cell_type": "code",
   "execution_count": 47,
   "id": "da85b654",
   "metadata": {},
   "outputs": [
    {
     "data": {
      "text/plain": [
       "'e number 3\\n'"
      ]
     },
     "execution_count": 47,
     "metadata": {},
     "output_type": "execute_result"
    }
   ],
   "source": [
    "myfile.readline()"
   ]
  },
  {
   "cell_type": "code",
   "execution_count": 43,
   "id": "e3dea4d7",
   "metadata": {},
   "outputs": [],
   "source": [
    "myfile.close()"
   ]
  },
  {
   "cell_type": "code",
   "execution_count": null,
   "id": "76a1fe3b",
   "metadata": {},
   "outputs": [
    {
     "name": "stdout",
     "output_type": "stream",
     "text": [
      "line number 1\n",
      "\n",
      "line number 2\n",
      "\n",
      "line number 3\n",
      "\n",
      "line number 4\n",
      "\n",
      "line number 5\n",
      "\n",
      "line number 6\n",
      "\n",
      "line number 7\n",
      "\n",
      "line number 8\n",
      "\n",
      "line number 9\n",
      "\n"
     ]
    }
   ],
   "source": [
    "myfile = open('myfile2.txt')\n",
    "while True:\n",
    " line = myfile.readline()\n",
    " if not line: # 파일이 0 일 때까지\n",
    "    break\n",
    " print(line)\n",
    "\n",
    "myfile.close()"
   ]
  },
  {
   "cell_type": "code",
   "execution_count": 49,
   "id": "bcd5f1f7",
   "metadata": {},
   "outputs": [
    {
     "name": "stdout",
     "output_type": "stream",
     "text": [
      "line number 1\n",
      "line number 2\n",
      "line number 3\n",
      "line number 4\n",
      "line number 5\n",
      "line number 6\n",
      "line number 7\n",
      "line number 8\n",
      "line number 9\n"
     ]
    }
   ],
   "source": [
    "myfile = open('myfile2.txt')\n",
    "for l in myfile:\n",
    "    print(l[:-1])\n",
    "myfile.close()"
   ]
  },
  {
   "cell_type": "code",
   "execution_count": 63,
   "id": "f02ab44b",
   "metadata": {},
   "outputs": [
    {
     "name": "stdout",
     "output_type": "stream",
     "text": [
      "they are reverse complement\n"
     ]
    }
   ],
   "source": [
    "# Quiz\n",
    "myfile = open('myseq2.txt')\n",
    "nt_pairH = {'A':'T', 'T': 'A', 'C':'G', 'G':'C'}\n",
    "seq1 = myfile.readline()\n",
    "seq2 = myfile.readline()\n",
    "if seq1[:-1] == ''.join([nt_pairH.get(n ,'X')for n in seq2[:-1][::-1]]):\n",
    "    print('they are reverse complement')\n",
    "else:\n",
    "    print('they are not reverse complement')\n",
    "myfile.close()"
   ]
  },
  {
   "cell_type": "markdown",
   "id": "b8809261",
   "metadata": {},
   "source": [
    "# Functions\n",
    "### User-defined functions\n"
   ]
  },
  {
   "cell_type": "code",
   "execution_count": 66,
   "id": "4d5e5dee",
   "metadata": {},
   "outputs": [
    {
     "name": "stdout",
     "output_type": "stream",
     "text": [
      "Hi, Jo\n"
     ]
    }
   ],
   "source": [
    "def print_hi(name):\n",
    "    print(f'Hi, {name}')\n",
    "\n",
    "print_hi(\"Jo\")"
   ]
  },
  {
   "cell_type": "code",
   "execution_count": 67,
   "id": "776449b0",
   "metadata": {},
   "outputs": [
    {
     "data": {
      "text/plain": [
       "3"
      ]
     },
     "execution_count": 67,
     "metadata": {},
     "output_type": "execute_result"
    }
   ],
   "source": [
    "def add2num(x, y):\n",
    "    if isinstance(x, (int,float)) and isinstance(y, (int,float)):\n",
    "        return x + y\n",
    "    else:\n",
    "        print(\"please insert numeric data\")\n",
    "\n",
    "add2num(1,2)    "
   ]
  },
  {
   "cell_type": "code",
   "execution_count": null,
   "id": "693f6f62",
   "metadata": {},
   "outputs": [
    {
     "name": "stdout",
     "output_type": "stream",
     "text": [
      "hello, hj\n",
      "Funk you, Hi\n"
     ]
    }
   ],
   "source": [
    "def welcome_hj(x = 'hj', y = 'hello'): \n",
    "    print(f'{y}, {x}')\n",
    "\n",
    "welcome_hj()\n",
    "welcome_hj('Hi','Funk you') # 순서대로 인식하기에 오른쪽부터 채워줘야 한다."
   ]
  },
  {
   "cell_type": "code",
   "execution_count": 78,
   "id": "48616f64",
   "metadata": {},
   "outputs": [],
   "source": [
    "# Quiz\n",
    "def reverse_complement(seq):\n",
    "    nt_pairH = {'A':'T', 'T': 'A', 'C':'G', 'G':'C'}\n",
    "    temp_seq = seq[::-1] # reversed(orig_seq)\n",
    "    rev_seq =''.join([nt_pairH.get(nt,'X') for nt in temp_seq])\n",
    "    return rev_seq"
   ]
  },
  {
   "cell_type": "code",
   "execution_count": 80,
   "id": "a59f82e0",
   "metadata": {},
   "outputs": [
    {
     "name": "stdout",
     "output_type": "stream",
     "text": [
      "TTTGCCGAGATT\n"
     ]
    }
   ],
   "source": [
    "myfile = open('myseq2.txt','r')\n",
    "seq = myfile.readline()[:-1]\n",
    "rev_seq = reverse_complement(seq)\n",
    "myfile.close()\n",
    "print(rev_seq)"
   ]
  },
  {
   "cell_type": "markdown",
   "id": "47ebd211",
   "metadata": {},
   "source": [
    "### User-defined functions\n",
    "Arbitrary arguments (*args).   \n",
    "When you do not know the number of arguments that will be used in a function.  \n",
    "Place an asterisk mark (*) before the parameter name.  "
   ]
  },
  {
   "cell_type": "code",
   "execution_count": 81,
   "id": "187c9ae1",
   "metadata": {},
   "outputs": [
    {
     "data": {
      "text/plain": [
       "'python versions: 3.9'"
      ]
     },
     "execution_count": 81,
     "metadata": {},
     "output_type": "execute_result"
    }
   ],
   "source": [
    "def lang_ver(lang,*args):\n",
    "    ver_str = ', '.join([str(ver) for ver in args])\n",
    "    res_str = '%s versions: %s' % (lang, ver_str)\n",
    "    return res_str\n",
    "\n",
    "lang_ver('python', 3.9)"
   ]
  },
  {
   "cell_type": "markdown",
   "id": "565ebc4d",
   "metadata": {},
   "source": [
    "# Exception handling\n",
    "  \n",
    "If you expect that an error may occur, you can handle the error and proceed the code execution using try-except blocks.  "
   ]
  },
  {
   "cell_type": "code",
   "execution_count": null,
   "id": "25963161",
   "metadata": {},
   "outputs": [],
   "source": [
    "try:\n",
    "    # statement\n",
    "    print('hi')\n",
    "except name of error (optional) as error message (optional):\n",
    "    # if there is an error in the try block\n",
    "    print('there is an error')"
   ]
  },
  {
   "cell_type": "code",
   "execution_count": 82,
   "id": "5e080f04",
   "metadata": {},
   "outputs": [],
   "source": [
    "def add2num_rev(x, y):\n",
    "    try:\n",
    "        z = float(x) + float(y)\n",
    "        return z\n",
    "    except:\n",
    "        print('only int/float are allowed')"
   ]
  },
  {
   "cell_type": "code",
   "execution_count": 83,
   "id": "2b6308e3",
   "metadata": {},
   "outputs": [
    {
     "data": {
      "text/plain": [
       "5.3"
      ]
     },
     "execution_count": 83,
     "metadata": {},
     "output_type": "execute_result"
    }
   ],
   "source": [
    "add2num_rev('1',4.3)"
   ]
  },
  {
   "cell_type": "code",
   "execution_count": 84,
   "id": "c3a8ed7c",
   "metadata": {},
   "outputs": [
    {
     "name": "stdout",
     "output_type": "stream",
     "text": [
      "only int/float are allowed\n"
     ]
    }
   ],
   "source": [
    "add2num_rev('abc',4.3)"
   ]
  },
  {
   "cell_type": "markdown",
   "id": "a9e2eb7b",
   "metadata": {},
   "source": [
    "## 🧩 Python 오류 정리\n",
    "\n",
    "### 🔸 `ValueError`\n",
    "- **설명**: 함수나 연산에 **올바른 자료형(type)** 은 전달되었지만, **부적절한 값(value)** 이 전달될 때 발생.  \n",
    "\n",
    "### 🔸 `TypeError`\n",
    "- **설명**: 함수나 연산에 잘못된 자료형(type) 이 전달될 때 발생."
   ]
  },
  {
   "cell_type": "code",
   "execution_count": 85,
   "id": "f3259f49",
   "metadata": {},
   "outputs": [],
   "source": [
    "# Raise an exception 일부러 논리적 에러가 생기면 이를 정지시키기\n",
    "def oddeven(x):\n",
    "    if not isinstance(x, (int)):\n",
    "        raise Exception(f'Integers are only accepted. Your input is {type(x)}')\n",
    "    elif x % 2 == 1:\n",
    "        print('x is odd')\n",
    "    else:\n",
    "        print('x is even')"
   ]
  },
  {
   "cell_type": "code",
   "execution_count": null,
   "id": "4104cf92",
   "metadata": {},
   "outputs": [],
   "source": []
  }
 ],
 "metadata": {
  "kernelspec": {
   "display_name": "deepcam",
   "language": "python",
   "name": "python3"
  },
  "language_info": {
   "codemirror_mode": {
    "name": "ipython",
    "version": 3
   },
   "file_extension": ".py",
   "mimetype": "text/x-python",
   "name": "python",
   "nbconvert_exporter": "python",
   "pygments_lexer": "ipython3",
   "version": "3.11.11"
  }
 },
 "nbformat": 4,
 "nbformat_minor": 5
}
