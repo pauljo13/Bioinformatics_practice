{
 "cells": [
  {
   "cell_type": "code",
   "execution_count": 64,
   "id": "6871e720",
   "metadata": {},
   "outputs": [
    {
     "data": {
      "text/plain": [
       "'/Users/bumsoojoe/Desktop/Study/Bioinformatics_practice/lecture/data'"
      ]
     },
     "execution_count": 64,
     "metadata": {},
     "output_type": "execute_result"
    }
   ],
   "source": [
    "import os\n",
    "os.chdir('/Users/bumsoojoe/Desktop/Study/Bioinformatics_practice/lecture/data')\n",
    "os.getcwd()"
   ]
  },
  {
   "cell_type": "markdown",
   "id": "d1ac688c",
   "metadata": {},
   "source": [
    "## Class\n",
    "- python은 개체지향성 언어 -> 조립형\n",
    "- 부분적으로 원하는 것을 수정할 수 있다."
   ]
  },
  {
   "cell_type": "code",
   "execution_count": 2,
   "id": "b7b2f870",
   "metadata": {},
   "outputs": [],
   "source": [
    "class myClass:\n",
    "    '''this is a docstring of myClass'''\n",
    "    pass"
   ]
  },
  {
   "cell_type": "code",
   "execution_count": 3,
   "id": "08f32a0b",
   "metadata": {},
   "outputs": [],
   "source": [
    "a = myClass()\n",
    "b = myClass()"
   ]
  },
  {
   "cell_type": "code",
   "execution_count": 4,
   "id": "d536179a",
   "metadata": {},
   "outputs": [
    {
     "data": {
      "text/plain": [
       "<__main__.myClass at 0x11480ae90>"
      ]
     },
     "execution_count": 4,
     "metadata": {},
     "output_type": "execute_result"
    }
   ],
   "source": [
    "a"
   ]
  },
  {
   "cell_type": "code",
   "execution_count": 5,
   "id": "0c32c671",
   "metadata": {},
   "outputs": [
    {
     "data": {
      "text/plain": [
       "<__main__.myClass at 0x11480b090>"
      ]
     },
     "execution_count": 5,
     "metadata": {},
     "output_type": "execute_result"
    }
   ],
   "source": [
    "b"
   ]
  },
  {
   "cell_type": "code",
   "execution_count": null,
   "id": "cb63b207",
   "metadata": {},
   "outputs": [],
   "source": [
    "class myClass: # 자동차 설계도\n",
    "    '''this is a docstring of myClass'''\n",
    "    att = 'hello, my world' # 자동차 특징\n",
    "    def helloworld(self): # 자동차 기능, # self : The class object 클라스 자체\n",
    "        print('hello, world')\n"
   ]
  },
  {
   "cell_type": "code",
   "execution_count": 8,
   "id": "3289efe2",
   "metadata": {},
   "outputs": [
    {
     "data": {
      "text/plain": [
       "'hello, my world'"
      ]
     },
     "execution_count": 8,
     "metadata": {},
     "output_type": "execute_result"
    }
   ],
   "source": [
    "a = myClass()\n",
    "a.att"
   ]
  },
  {
   "cell_type": "code",
   "execution_count": 9,
   "id": "4c23578e",
   "metadata": {},
   "outputs": [
    {
     "name": "stdout",
     "output_type": "stream",
     "text": [
      "hello, world\n"
     ]
    }
   ],
   "source": [
    "a.helloworld()"
   ]
  },
  {
   "cell_type": "code",
   "execution_count": 10,
   "id": "ae4f9857",
   "metadata": {},
   "outputs": [],
   "source": [
    "class myClass:\n",
    "    def union_set(self, set1, set2):\n",
    "        result = set1 | set2\n",
    "        return result\n",
    "    def inter_set(self, set1, set2):\n",
    "        result = set1 & set2\n",
    "        return result\n",
    "\n",
    "a = myClass()"
   ]
  },
  {
   "cell_type": "code",
   "execution_count": 11,
   "id": "93d88d61",
   "metadata": {},
   "outputs": [
    {
     "data": {
      "text/plain": [
       "{1, 2, 3, 4, 5}"
      ]
     },
     "execution_count": 11,
     "metadata": {},
     "output_type": "execute_result"
    }
   ],
   "source": [
    "a.union_set({1,2,3},{3,4,5})"
   ]
  },
  {
   "cell_type": "code",
   "execution_count": 12,
   "id": "e97caf25",
   "metadata": {},
   "outputs": [
    {
     "data": {
      "text/plain": [
       "{3}"
      ]
     },
     "execution_count": 12,
     "metadata": {},
     "output_type": "execute_result"
    }
   ],
   "source": [
    "a.inter_set({1,2,3},{3,4,5})"
   ]
  },
  {
   "cell_type": "code",
   "execution_count": 24,
   "id": "36d1f418",
   "metadata": {},
   "outputs": [],
   "source": [
    "class myClass:\n",
    "    def __init__(self, set1, set2): # constructor > object 가 생성될 떄 자동으로 호출되는 함수\n",
    "        self.set1 = set1\n",
    "        self.set2 = set2\n",
    "    def union_set(self):\n",
    "        result = self.set1 | self.set2\n",
    "        return result\n",
    "    def inter_set(self):\n",
    "        result = self.set1 & self.set2\n",
    "        return result"
   ]
  },
  {
   "cell_type": "code",
   "execution_count": 25,
   "id": "b432774c",
   "metadata": {},
   "outputs": [
    {
     "ename": "TypeError",
     "evalue": "myClass.__init__() missing 2 required positional arguments: 'set1' and 'set2'",
     "output_type": "error",
     "traceback": [
      "\u001b[31m---------------------------------------------------------------------------\u001b[39m",
      "\u001b[31mTypeError\u001b[39m                                 Traceback (most recent call last)",
      "\u001b[36mCell\u001b[39m\u001b[36m \u001b[39m\u001b[32mIn[25]\u001b[39m\u001b[32m, line 1\u001b[39m\n\u001b[32m----> \u001b[39m\u001b[32m1\u001b[39m a = \u001b[43mmyClass\u001b[49m\u001b[43m(\u001b[49m\u001b[43m)\u001b[49m\n",
      "\u001b[31mTypeError\u001b[39m: myClass.__init__() missing 2 required positional arguments: 'set1' and 'set2'"
     ]
    }
   ],
   "source": [
    "a = myClass()"
   ]
  },
  {
   "cell_type": "code",
   "execution_count": 26,
   "id": "8531c04d",
   "metadata": {},
   "outputs": [],
   "source": [
    "a = myClass({1,2,3},{3,4,5})"
   ]
  },
  {
   "cell_type": "code",
   "execution_count": 27,
   "id": "82a115ce",
   "metadata": {},
   "outputs": [
    {
     "data": {
      "text/plain": [
       "{1, 2, 3, 4, 5}"
      ]
     },
     "execution_count": 27,
     "metadata": {},
     "output_type": "execute_result"
    }
   ],
   "source": [
    "a.union_set()"
   ]
  },
  {
   "cell_type": "code",
   "execution_count": 28,
   "id": "44707b6c",
   "metadata": {},
   "outputs": [
    {
     "data": {
      "text/plain": [
       "{3}"
      ]
     },
     "execution_count": 28,
     "metadata": {},
     "output_type": "execute_result"
    }
   ],
   "source": [
    "a.inter_set()"
   ]
  },
  {
   "cell_type": "code",
   "execution_count": 29,
   "id": "8e7e1a3b",
   "metadata": {},
   "outputs": [],
   "source": [
    "class MySeq:\n",
    "    \"this is from the textbook\"\n",
    "    def __init__(self, seq, seq_type = \"DNA\"):\n",
    "        self.seq = seq\n",
    "        self.seq_type = seq_type\n",
    "    def print_sequence(self):\n",
    "        print(\"Sequence : \" + self.seq)\n",
    "    def get_seq_biotype(self):\n",
    "        return self.seq_type\n",
    "    def show_info_seq(self):\n",
    "        print('Sequnece: ' + self.seq + \" biotype: \" + self.seq_type)\n",
    "    def count_occurrences(self, seq_search):\n",
    "        return self.seq.count(seq_search)"
   ]
  },
  {
   "cell_type": "code",
   "execution_count": 36,
   "id": "6d4070b1",
   "metadata": {},
   "outputs": [],
   "source": [
    "class rcClass:\n",
    "    nt_pairH = {'A': 'T', 'T': 'A', 'C': 'G', 'G': 'C'}\n",
    "    def __init__(self,orig_seq):\n",
    "        self.orig_seq = orig_seq\n",
    "        self.temp_seq = orig_seq[::-1]\n",
    "        self.rev_seq = ''.join([rcClass.nt_pairH.get(nt, 'X') for nt in self.temp_seq])\n",
    "    def reverse_complement(self):\n",
    "        return self.rev_seq\n",
    "    def nt_count(self, count_nt):\n",
    "        return self.orig_seq.count(count_nt)\n",
    "    def rc_nt_count(self, count_nt):\n",
    "        return self.rev_seq.count(count_nt)"
   ]
  },
  {
   "cell_type": "code",
   "execution_count": null,
   "id": "57eecb35",
   "metadata": {},
   "outputs": [
    {
     "data": {
      "text/plain": [
       "<__main__.rcClass at 0x115064790>"
      ]
     },
     "execution_count": 38,
     "metadata": {},
     "output_type": "execute_result"
    }
   ],
   "source": [
    "a = rcClass('AAAT')\n",
    "b = "
   ]
  },
  {
   "cell_type": "code",
   "execution_count": 43,
   "id": "92ce09c9",
   "metadata": {},
   "outputs": [
    {
     "name": "stdout",
     "output_type": "stream",
     "text": [
      "CGCGGGGTTAT\n"
     ]
    }
   ],
   "source": [
    "# Quiz\n",
    "seq1 = rcClass('ATAACCCCGCG')\n",
    "print(seq1.reverse_complement())"
   ]
  },
  {
   "cell_type": "code",
   "execution_count": 41,
   "id": "641b6a3a",
   "metadata": {},
   "outputs": [
    {
     "data": {
      "text/plain": [
       "1"
      ]
     },
     "execution_count": 41,
     "metadata": {},
     "output_type": "execute_result"
    }
   ],
   "source": [
    "seq1.nt_count(\"T\")"
   ]
  },
  {
   "cell_type": "code",
   "execution_count": 42,
   "id": "821e140f",
   "metadata": {},
   "outputs": [
    {
     "data": {
      "text/plain": [
       "5"
      ]
     },
     "execution_count": 42,
     "metadata": {},
     "output_type": "execute_result"
    }
   ],
   "source": [
    "seq1.rc_nt_count('G')"
   ]
  },
  {
   "cell_type": "markdown",
   "id": "abae6107",
   "metadata": {},
   "source": [
    "## Inheritance\n",
    "- parent class -> inherit -> Child class\n",
    "- parent class 를 수정하기 부담이 되는 돼 수정을 해야 할 경우\n",
    "- child class 로 개승을 받아서 이를 수정함\n",
    "```python\n",
    "class child(parentClass1):\n",
    "    '''docstring'''\n",
    "```"
   ]
  },
  {
   "cell_type": "code",
   "execution_count": 44,
   "id": "49334bbf",
   "metadata": {},
   "outputs": [],
   "source": [
    "class rcClassChild(rcClass):\n",
    "    def nt_ratio(self, nt):\n",
    "        return self.orig_seq.count(nt)/len(self.orig_seq)\n",
    "    def nt_count(self, count_nt): #overriding\n",
    "        if self.orig_seq.count(count_nt) == 0:\n",
    "            print('\"%s\" is not in \"%s\"' % (count_nt, self.orig_seq))\n",
    "        else:\n",
    "            return self.orig_seq.count(count_nt)"
   ]
  },
  {
   "cell_type": "code",
   "execution_count": 45,
   "id": "a7c6472c",
   "metadata": {},
   "outputs": [],
   "source": [
    "seq1 = rcClassChild('ATAACCCGCG')"
   ]
  },
  {
   "cell_type": "code",
   "execution_count": 46,
   "id": "e42acd29",
   "metadata": {},
   "outputs": [
    {
     "data": {
      "text/plain": [
       "'CGCGGGTTAT'"
      ]
     },
     "execution_count": 46,
     "metadata": {},
     "output_type": "execute_result"
    }
   ],
   "source": [
    "seq1.reverse_complement()"
   ]
  },
  {
   "cell_type": "code",
   "execution_count": 47,
   "id": "f2954ab4",
   "metadata": {},
   "outputs": [
    {
     "data": {
      "text/plain": [
       "0.4"
      ]
     },
     "execution_count": 47,
     "metadata": {},
     "output_type": "execute_result"
    }
   ],
   "source": [
    "seq1.nt_ratio('C')"
   ]
  },
  {
   "cell_type": "code",
   "execution_count": 48,
   "id": "751c2d77",
   "metadata": {},
   "outputs": [
    {
     "name": "stdout",
     "output_type": "stream",
     "text": [
      "\"N\" is not in \"ATAACCCGCG\"\n"
     ]
    }
   ],
   "source": [
    "seq1.nt_count('N')"
   ]
  },
  {
   "cell_type": "code",
   "execution_count": 49,
   "id": "7e8e5f6d",
   "metadata": {},
   "outputs": [],
   "source": [
    "class rcClassChild2(rcClassChild):\n",
    "    def __init__(self, orig_seq):\n",
    "        self.orig_seq = orig_seq.upper()\n",
    "        self.temp_seq = self.orig_seq[::-1]\n",
    "        self.rev_seq =''.join([rcClass.nt_pairH.get(nt, 'X') for nt in self.temp_seq])"
   ]
  },
  {
   "cell_type": "code",
   "execution_count": 51,
   "id": "832be673",
   "metadata": {},
   "outputs": [
    {
     "data": {
      "text/plain": [
       "'XXXX'"
      ]
     },
     "execution_count": 51,
     "metadata": {},
     "output_type": "execute_result"
    }
   ],
   "source": [
    "a = rcClassChild('aata')\n",
    "a.reverse_complement()"
   ]
  },
  {
   "cell_type": "code",
   "execution_count": 52,
   "id": "d3272c26",
   "metadata": {},
   "outputs": [
    {
     "data": {
      "text/plain": [
       "'TATT'"
      ]
     },
     "execution_count": 52,
     "metadata": {},
     "output_type": "execute_result"
    }
   ],
   "source": [
    "b = rcClassChild2('aata')\n",
    "b.reverse_complement()"
   ]
  },
  {
   "cell_type": "code",
   "execution_count": null,
   "id": "02066595",
   "metadata": {},
   "outputs": [],
   "source": [
    "class rcClassChild(rcClass):\n",
    "    def nt_ratio(self, nt):\n",
    "        return self.orig_seq.count(nt)/len(self.orig_seq)\n",
    "    def nt_count(self, count_nt): #overriding\n",
    "        if self.orig_seq.count(count_nt) == 0:\n",
    "            print('\"%s\" is not in \"%s\"' % (count_nt, self.orig_seq))\n",
    "        else:\n",
    "            return self.orig_seq.count(count_nt)\n",
    "    def nt_ratio1(self, count_nt):\n",
    "        return self.nt_count(count_nt) / len(self.orig_seq)\n",
    "    def nt_ratio2(self, count_nt):\n",
    "        return super().nt_count(count_nt) / len(self.orig_seq)\n",
    "    def"
   ]
  },
  {
   "cell_type": "code",
   "execution_count": 53,
   "id": "302d468e",
   "metadata": {},
   "outputs": [],
   "source": [
    "class rcClassChild3(rcClassChild):\n",
    "    def orig_rev_ratio(self, count_nt = 'T'):\n",
    "        return abs(super().nt_count(count_nt) - super().rc_nt_ratio(count_nt))\n",
    "        "
   ]
  },
  {
   "cell_type": "markdown",
   "id": "77738c3d",
   "metadata": {},
   "source": [
    "# Module\n",
    "- A file containing a set of functions you want to include in your application.\n",
    "- "
   ]
  },
  {
   "cell_type": "code",
   "execution_count": 55,
   "id": "f63a41ee",
   "metadata": {},
   "outputs": [],
   "source": [
    "os.chdir('/Users/bumsoojoe/Desktop/Study/Bioinformatics_practice/lecture')\n",
    "import myfuncs"
   ]
  },
  {
   "cell_type": "code",
   "execution_count": 56,
   "id": "28552236",
   "metadata": {},
   "outputs": [
    {
     "name": "stdout",
     "output_type": "stream",
     "text": [
      "hello, world\n"
     ]
    }
   ],
   "source": [
    "myfuncs.helloworld()"
   ]
  },
  {
   "cell_type": "code",
   "execution_count": 57,
   "id": "59e8d59c",
   "metadata": {},
   "outputs": [
    {
     "name": "stdout",
     "output_type": "stream",
     "text": [
      "hi~\n"
     ]
    }
   ],
   "source": [
    "myfuncs.echo('hi~')"
   ]
  },
  {
   "cell_type": "code",
   "execution_count": 58,
   "id": "7b649340",
   "metadata": {},
   "outputs": [
    {
     "data": {
      "text/plain": [
       "['/Users/bumsoojoe/opt/anaconda3/envs/deepcam/lib/python311.zip',\n",
       " '/Users/bumsoojoe/opt/anaconda3/envs/deepcam/lib/python3.11',\n",
       " '/Users/bumsoojoe/opt/anaconda3/envs/deepcam/lib/python3.11/lib-dynload',\n",
       " '',\n",
       " '/Users/bumsoojoe/opt/anaconda3/envs/deepcam/lib/python3.11/site-packages']"
      ]
     },
     "execution_count": 58,
     "metadata": {},
     "output_type": "execute_result"
    }
   ],
   "source": [
    "import sys\n",
    "sys.path"
   ]
  },
  {
   "cell_type": "code",
   "execution_count": 65,
   "id": "c920a9c9",
   "metadata": {},
   "outputs": [],
   "source": [
    "sys.path.append('/Users/bumsoojoe/Desktop/Study/Bioinformatics_practice/lecture/data')"
   ]
  },
  {
   "cell_type": "code",
   "execution_count": 66,
   "id": "4a2d911c",
   "metadata": {},
   "outputs": [
    {
     "data": {
      "text/plain": [
       "['/Users/bumsoojoe/opt/anaconda3/envs/deepcam/lib/python311.zip',\n",
       " '/Users/bumsoojoe/opt/anaconda3/envs/deepcam/lib/python3.11',\n",
       " '/Users/bumsoojoe/opt/anaconda3/envs/deepcam/lib/python3.11/lib-dynload',\n",
       " '',\n",
       " '/Users/bumsoojoe/opt/anaconda3/envs/deepcam/lib/python3.11/site-packages',\n",
       " '/Users/bumsoojoe/Desktop/Study/Bioinformatics_practice/lecture/data',\n",
       " '/Users/bumsoojoe/Desktop/Study/Bioinformatics_practice/lecture/data']"
      ]
     },
     "execution_count": 66,
     "metadata": {},
     "output_type": "execute_result"
    }
   ],
   "source": [
    "sys.path"
   ]
  },
  {
   "cell_type": "code",
   "execution_count": 67,
   "id": "0ab666e0",
   "metadata": {},
   "outputs": [],
   "source": [
    "import myfuncs"
   ]
  },
  {
   "cell_type": "code",
   "execution_count": 61,
   "id": "07191294",
   "metadata": {},
   "outputs": [
    {
     "name": "stdout",
     "output_type": "stream",
     "text": [
      "hello, world\n"
     ]
    }
   ],
   "source": [
    "from myfuncs import helloworld\n",
    "helloworld()"
   ]
  },
  {
   "cell_type": "code",
   "execution_count": 62,
   "id": "f4dc8003",
   "metadata": {},
   "outputs": [
    {
     "ename": "NameError",
     "evalue": "name 'echo' is not defined",
     "output_type": "error",
     "traceback": [
      "\u001b[31m---------------------------------------------------------------------------\u001b[39m",
      "\u001b[31mNameError\u001b[39m                                 Traceback (most recent call last)",
      "\u001b[36mCell\u001b[39m\u001b[36m \u001b[39m\u001b[32mIn[62]\u001b[39m\u001b[32m, line 1\u001b[39m\n\u001b[32m----> \u001b[39m\u001b[32m1\u001b[39m \u001b[43mecho\u001b[49m(\u001b[33m'\u001b[39m\u001b[33mhi~\u001b[39m\u001b[33m'\u001b[39m)\n",
      "\u001b[31mNameError\u001b[39m: name 'echo' is not defined"
     ]
    }
   ],
   "source": [
    "echo('hi~')"
   ]
  },
  {
   "cell_type": "code",
   "execution_count": 69,
   "id": "c5564539",
   "metadata": {},
   "outputs": [
    {
     "name": "stdout",
     "output_type": "stream",
     "text": [
      "hi~\n"
     ]
    }
   ],
   "source": [
    "from myfuncs import helloworld, echo\n",
    "echo(\"hi~\")"
   ]
  },
  {
   "cell_type": "code",
   "execution_count": 70,
   "id": "61adb69e",
   "metadata": {},
   "outputs": [
    {
     "name": "stdout",
     "output_type": "stream",
     "text": [
      "hello, world\n"
     ]
    }
   ],
   "source": [
    "from myfuncs import*\n",
    "helloworld()"
   ]
  },
  {
   "cell_type": "code",
   "execution_count": 71,
   "id": "b43716db",
   "metadata": {},
   "outputs": [
    {
     "name": "stdout",
     "output_type": "stream",
     "text": [
      "hi\n"
     ]
    }
   ],
   "source": [
    "echo('hi')"
   ]
  },
  {
   "cell_type": "code",
   "execution_count": 72,
   "id": "01b6207f",
   "metadata": {},
   "outputs": [
    {
     "name": "stdout",
     "output_type": "stream",
     "text": [
      "1 + 3 = 4\n",
      "1 - 3 = -2\n"
     ]
    },
    {
     "data": {
      "text/plain": [
       "(4, -2)"
      ]
     },
     "execution_count": 72,
     "metadata": {},
     "output_type": "execute_result"
    }
   ],
   "source": [
    "addsub(1,3)"
   ]
  },
  {
   "cell_type": "code",
   "execution_count": 73,
   "id": "8cb65595",
   "metadata": {},
   "outputs": [],
   "source": [
    "import myfuncs\n",
    "a = myfuncs.rcClass('AAAT')"
   ]
  },
  {
   "cell_type": "code",
   "execution_count": 74,
   "id": "d906c2bd",
   "metadata": {},
   "outputs": [
    {
     "data": {
      "text/plain": [
       "'ATTT'"
      ]
     },
     "execution_count": 74,
     "metadata": {},
     "output_type": "execute_result"
    }
   ],
   "source": [
    "a.reverse_complement()"
   ]
  },
  {
   "cell_type": "code",
   "execution_count": 75,
   "id": "152702b3",
   "metadata": {},
   "outputs": [],
   "source": [
    "b = myfuncs.rcClassChild('AAAT')"
   ]
  },
  {
   "cell_type": "code",
   "execution_count": 76,
   "id": "45f782a9",
   "metadata": {},
   "outputs": [
    {
     "data": {
      "text/plain": [
       "0.75"
      ]
     },
     "execution_count": 76,
     "metadata": {},
     "output_type": "execute_result"
    }
   ],
   "source": [
    "b.rc_nt_ratio('T')"
   ]
  },
  {
   "cell_type": "code",
   "execution_count": 78,
   "id": "956ae5aa",
   "metadata": {},
   "outputs": [],
   "source": [
    "import myfuncs"
   ]
  },
  {
   "cell_type": "code",
   "execution_count": 79,
   "id": "ad7c35c5",
   "metadata": {},
   "outputs": [],
   "source": [
    "import myfuncs"
   ]
  },
  {
   "cell_type": "code",
   "execution_count": null,
   "id": "56d423ab",
   "metadata": {},
   "outputs": [],
   "source": [
    "# if __name__ == \"__main__\":-> 실행이 되면 이걸 실행"
   ]
  },
  {
   "cell_type": "code",
   "execution_count": 81,
   "id": "f67c0903",
   "metadata": {},
   "outputs": [
    {
     "data": {
      "text/plain": [
       "['--f=/Users/bumsoojoe/Library/Jupyter/runtime/kernel-v31b6a5c08065ed46f828f5202a015d32c634ec3cf.json']"
      ]
     },
     "execution_count": 81,
     "metadata": {},
     "output_type": "execute_result"
    }
   ],
   "source": [
    "sys.argv[1:]"
   ]
  },
  {
   "cell_type": "code",
   "execution_count": null,
   "id": "40b421ca",
   "metadata": {},
   "outputs": [],
   "source": []
  }
 ],
 "metadata": {
  "kernelspec": {
   "display_name": "deepcam",
   "language": "python",
   "name": "python3"
  },
  "language_info": {
   "codemirror_mode": {
    "name": "ipython",
    "version": 3
   },
   "file_extension": ".py",
   "mimetype": "text/x-python",
   "name": "python",
   "nbconvert_exporter": "python",
   "pygments_lexer": "ipython3",
   "version": "3.11.11"
  }
 },
 "nbformat": 4,
 "nbformat_minor": 5
}
