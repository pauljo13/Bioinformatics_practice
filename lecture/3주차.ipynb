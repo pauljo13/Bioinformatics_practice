{
 "cells": [
  {
   "cell_type": "markdown",
   "id": "15df2199",
   "metadata": {},
   "source": [
    "# For / read & write\n",
    "  \n",
    "### for\n",
    "- Definite iteration\n",
    "- for loop - to iterate code blocks over a sequence (list, tuple, string) or other iterable objects.\n"
   ]
  },
  {
   "cell_type": "code",
   "execution_count": 2,
   "id": "9df3ed00",
   "metadata": {},
   "outputs": [
    {
     "name": "stdout",
     "output_type": "stream",
     "text": [
      "0\n",
      "1\n",
      "2\n",
      "3\n",
      "4\n"
     ]
    }
   ],
   "source": [
    "for i in range(5):\n",
    "    print(i)"
   ]
  },
  {
   "cell_type": "code",
   "execution_count": 3,
   "id": "fd94cb41",
   "metadata": {},
   "outputs": [
    {
     "name": "stdout",
     "output_type": "stream",
     "text": [
      "2\n",
      "4\n",
      "6\n",
      "8\n",
      "10\n"
     ]
    }
   ],
   "source": [
    "for i in range(2, 11, 2):\n",
    "    print(i)"
   ]
  },
  {
   "cell_type": "code",
   "execution_count": null,
   "id": "0ed32803",
   "metadata": {},
   "outputs": [],
   "source": [
    "for i in range(1, 11):\n",
    "    if i % 2 == 1:\n",
    "        oddList.app"
   ]
  },
  {
   "cell_type": "code",
   "execution_count": 6,
   "id": "4806f26b",
   "metadata": {},
   "outputs": [
    {
     "name": "stdout",
     "output_type": "stream",
     "text": [
      "392\n",
      "392\n"
     ]
    }
   ],
   "source": [
    "# Quiz\n",
    "Lis = []\n",
    "for i in range(0,101):\n",
    "    if i % 7 == 0 and i % 2 == 0:\n",
    "        Lis.append(i)\n",
    "print(sum(Lis))\n",
    "\n",
    "print(sum([i for i in range(0,101) if i % 7 == 0 and i % 2 == 0]))"
   ]
  },
  {
   "cell_type": "code",
   "execution_count": 7,
   "id": "dfcc1e07",
   "metadata": {},
   "outputs": [
    {
     "name": "stdout",
     "output_type": "stream",
     "text": [
      "t\n",
      "h\n",
      "i\n",
      "s\n",
      "spaces are not allowed\n"
     ]
    }
   ],
   "source": [
    "# for - break\n",
    "a = \"this is a string\"\n",
    "for i in a:\n",
    "    if i == ' ':\n",
    "        print('spaces are not allowed')\n",
    "        break\n",
    "    else:\n",
    "        print(i)"
   ]
  },
  {
   "cell_type": "code",
   "execution_count": 8,
   "id": "f1d977b2",
   "metadata": {},
   "outputs": [
    {
     "name": "stdout",
     "output_type": "stream",
     "text": [
      "['watermelon', 'tomato']\n"
     ]
    }
   ],
   "source": [
    "# Quiz\n",
    "mylist = ['watermelon', 'banana', 'apple', 'tomato', 'peach']\n",
    "o_list = [i for i in mylist if 'o' in i]\n",
    "print(o_list)"
   ]
  },
  {
   "cell_type": "code",
   "execution_count": 10,
   "id": "79a8a2ef",
   "metadata": {},
   "outputs": [
    {
     "data": {
      "text/plain": [
       "[4, 7, 9]"
      ]
     },
     "execution_count": 10,
     "metadata": {},
     "output_type": "execute_result"
    }
   ],
   "source": [
    "idx_space = [i for i in range(len(a)) if a[i] == ' ']\n",
    "idx_space"
   ]
  },
  {
   "cell_type": "code",
   "execution_count": 11,
   "id": "02ef34d0",
   "metadata": {},
   "outputs": [
    {
     "data": {
      "text/plain": [
       "[0, 3]"
      ]
     },
     "execution_count": 11,
     "metadata": {},
     "output_type": "execute_result"
    }
   ],
   "source": [
    "# Quiz\n",
    "o_idx_list = [i for i in range(len(mylist)) if 'o' in mylist[i]]\n",
    "o_idx_list"
   ]
  },
  {
   "cell_type": "code",
   "execution_count": null,
   "id": "fb47daa9",
   "metadata": {},
   "outputs": [
    {
     "data": {
      "text/plain": [
       "<enumerate at 0x1092b9580>"
      ]
     },
     "execution_count": 12,
     "metadata": {},
     "output_type": "execute_result"
    }
   ],
   "source": [
    "## enumerate\n",
    "# > (index of each item, item)\n",
    "# 인덱스로 벨류 값을 동시에 튜플 상태로 가져온다.\n",
    "enumerate(mylist)"
   ]
  },
  {
   "cell_type": "code",
   "execution_count": 14,
   "id": "6020de22",
   "metadata": {},
   "outputs": [
    {
     "name": "stdout",
     "output_type": "stream",
     "text": [
      "(0, 'watermelon')\n",
      "(1, 'banana')\n",
      "(2, 'apple')\n",
      "(3, 'tomato')\n",
      "(4, 'peach')\n",
      "<class 'tuple'>\n",
      "<class 'tuple'>\n",
      "<class 'tuple'>\n",
      "<class 'tuple'>\n",
      "<class 'tuple'>\n"
     ]
    }
   ],
   "source": [
    "for x in enumerate(mylist): print(x)\n",
    "for x in enumerate(mylist): print(type(x))"
   ]
  },
  {
   "cell_type": "code",
   "execution_count": 15,
   "id": "4fad5eef",
   "metadata": {},
   "outputs": [
    {
     "data": {
      "text/plain": [
       "[0, 3]"
      ]
     },
     "execution_count": 15,
     "metadata": {},
     "output_type": "execute_result"
    }
   ],
   "source": [
    "o_idx_list2 = [x for x,v in enumerate(mylist) if 'o' in v ]\n",
    "o_idx_list2"
   ]
  },
  {
   "cell_type": "code",
   "execution_count": 16,
   "id": "0a141942",
   "metadata": {},
   "outputs": [
    {
     "data": {
      "text/plain": [
       "['sequence 1: \"A\"', 'sequence 2: \"T\"', 'sequence 3: \"C\"', 'sequence 4: \"G\"']"
      ]
     },
     "execution_count": 16,
     "metadata": {},
     "output_type": "execute_result"
    }
   ],
   "source": [
    "# List comprehension\n",
    "seq = \"ATCG\"\n",
    "resList = ['sequence %s: \"%s\"' %(i+1, seq[i]) for i in range(len(seq))]\n",
    "resList"
   ]
  },
  {
   "cell_type": "code",
   "execution_count": 19,
   "id": "105f4758",
   "metadata": {},
   "outputs": [
    {
     "name": "stdout",
     "output_type": "stream",
     "text": [
      "('1', '2')\n",
      "<class 'tuple'>\n",
      "('3', '4')\n",
      "<class 'tuple'>\n"
     ]
    }
   ],
   "source": [
    "for a in [('1', '2'), ('3', '4')]:\n",
    "    print(a)\n",
    "    print(type(a))\n"
   ]
  },
  {
   "cell_type": "code",
   "execution_count": 20,
   "id": "77b12cff",
   "metadata": {},
   "outputs": [
    {
     "name": "stdout",
     "output_type": "stream",
     "text": [
      "1 2\n",
      "<class 'str'> <class 'str'>\n",
      "3 4\n",
      "<class 'str'> <class 'str'>\n"
     ]
    }
   ],
   "source": [
    "for a, b in [('1', '2'), ('3', '4')]:\n",
    "    print(a, b)\n",
    "    print(type(a), type(b))"
   ]
  },
  {
   "cell_type": "code",
   "execution_count": 21,
   "id": "74e5367c",
   "metadata": {},
   "outputs": [
    {
     "data": {
      "text/plain": [
       "dict_items([(1, 'one'), (2, 'two'), (3, 'three')])"
      ]
     },
     "execution_count": 21,
     "metadata": {},
     "output_type": "execute_result"
    }
   ],
   "source": [
    "# Useful functions in dictionary\n",
    "## dict.items()\n",
    "a = {1: 'one', 2: 'two', 3: 'three'}\n",
    "a.items()"
   ]
  },
  {
   "cell_type": "code",
   "execution_count": 23,
   "id": "b2898472",
   "metadata": {},
   "outputs": [
    {
     "name": "stdout",
     "output_type": "stream",
     "text": [
      "[(1, 'one'), (2, 'two'), (3, 'three')]\n",
      "(1, 'one')\n",
      "1\n",
      "one\n"
     ]
    }
   ],
   "source": [
    "dict_item_list = list(a.items())\n",
    "print(dict_item_list)\n",
    "print(dict_item_list[0])\n",
    "print(dict_item_list[0][0])\n",
    "print(dict_item_list[0][1])"
   ]
  },
  {
   "cell_type": "code",
   "execution_count": 24,
   "id": "1a807bef",
   "metadata": {},
   "outputs": [
    {
     "name": "stdout",
     "output_type": "stream",
     "text": [
      "EGFR: oncogene\n",
      "ERBB2: not in gene_func_dict, update \"ERBB2\"\n"
     ]
    }
   ],
   "source": [
    "gene_func_dict = {'EGFR': 'oncogene', 'KRAS': 'oncogene', 'PTEN': 'TSG', 'GAPDH': 'house', 'ACTB': 'house'}\n",
    "for gene in ['EGFR','ERBB2']:\n",
    "    if gene in gene_func_dict.keys():\n",
    "        print(f'{gene}: {gene_func_dict[gene]}')\n",
    "    else:\n",
    "        print(f'{gene}: not in gene_func_dict, update \"{gene}\"')\n",
    "        gene_func_dict[gene] = 'oncogene'"
   ]
  },
  {
   "cell_type": "code",
   "execution_count": 25,
   "id": "118e2869",
   "metadata": {},
   "outputs": [
    {
     "data": {
      "text/plain": [
       "['EGFR', 'KRAS', 'ERBB2']"
      ]
     },
     "execution_count": 25,
     "metadata": {},
     "output_type": "execute_result"
    }
   ],
   "source": [
    "# Quiz\n",
    "onco_list = [i for i, j in gene_func_dict.items() if j == \"oncogene\"]\n",
    "onco_list"
   ]
  },
  {
   "cell_type": "code",
   "execution_count": 26,
   "id": "21e9efab",
   "metadata": {},
   "outputs": [
    {
     "data": {
      "text/plain": [
       "{'oncogene': 'ERBB2', 'TSG': 'PTEN', 'house': 'ACTB'}"
      ]
     },
     "execution_count": 26,
     "metadata": {},
     "output_type": "execute_result"
    }
   ],
   "source": [
    "# Key <-> Value in dictionary using 'For/if' \n",
    "{ func: gene for gene,func in gene_func_dict.items() }"
   ]
  },
  {
   "cell_type": "code",
   "execution_count": 27,
   "id": "2e69cf78",
   "metadata": {},
   "outputs": [
    {
     "name": "stdout",
     "output_type": "stream",
     "text": [
      "{'oncogene': ['EGFR', 'KRAS']}\n",
      "{'oncogene': ['EGFR', 'KRAS'], 'TSG': ['PTEN'], 'house': ['GAPDH', 'ACTB']}\n",
      "{'oncogene': ['EGFR', 'KRAS', 'ERBB2'], 'TSG': ['PTEN'], 'house': ['GAPDH', 'ACTB']}\n"
     ]
    }
   ],
   "source": [
    "new_dict = {}\n",
    "for gene,func in gene_func_dict.items():\n",
    "    # test whether the \"func\" key exists in new_dict or not\n",
    "    # if there is no \"func\" key in new_dict, return -1\n",
    "    if new_dict.get(func, -1) == -1: # no \"func\" key in new_dict\n",
    "        new_dict[func] = [gene]\n",
    "    else: # the \"func\" key exists in new_dict\n",
    "        new_dict[func].append(gene)\n",
    "        print(new_dict)"
   ]
  },
  {
   "cell_type": "code",
   "execution_count": 29,
   "id": "3a1f7e74",
   "metadata": {},
   "outputs": [
    {
     "name": "stdout",
     "output_type": "stream",
     "text": [
      "one\n"
     ]
    },
    {
     "ename": "KeyError",
     "evalue": "'1'",
     "output_type": "error",
     "traceback": [
      "\u001b[31m---------------------------------------------------------------------------\u001b[39m",
      "\u001b[31mKeyError\u001b[39m                                  Traceback (most recent call last)",
      "\u001b[36mCell\u001b[39m\u001b[36m \u001b[39m\u001b[32mIn[29]\u001b[39m\u001b[32m, line 4\u001b[39m\n\u001b[32m      2\u001b[39m a = {\u001b[32m1\u001b[39m: \u001b[33m'\u001b[39m\u001b[33mone\u001b[39m\u001b[33m'\u001b[39m, \u001b[32m2\u001b[39m: \u001b[33m'\u001b[39m\u001b[33mtwo\u001b[39m\u001b[33m'\u001b[39m, \u001b[32m3\u001b[39m: \u001b[33m'\u001b[39m\u001b[33mthree\u001b[39m\u001b[33m'\u001b[39m}\n\u001b[32m      3\u001b[39m \u001b[38;5;28mprint\u001b[39m(a[\u001b[32m1\u001b[39m])\n\u001b[32m----> \u001b[39m\u001b[32m4\u001b[39m \u001b[38;5;28mprint\u001b[39m(\u001b[43ma\u001b[49m\u001b[43m[\u001b[49m\u001b[33;43m'\u001b[39;49m\u001b[33;43m1\u001b[39;49m\u001b[33;43m'\u001b[39;49m\u001b[43m]\u001b[49m)\n",
      "\u001b[31mKeyError\u001b[39m: '1'"
     ]
    }
   ],
   "source": [
    "# Get value using key in dictionary\n",
    "a = {1: 'one', 2: 'two', 3: 'three'}\n",
    "print(a[1])\n",
    "print(a['1'])"
   ]
  },
  {
   "cell_type": "code",
   "execution_count": 32,
   "id": "61eac1ab",
   "metadata": {},
   "outputs": [
    {
     "data": {
      "text/plain": [
       "'no such key in this dictionary'"
      ]
     },
     "execution_count": 32,
     "metadata": {},
     "output_type": "execute_result"
    }
   ],
   "source": [
    "a.get('1')\n",
    "a.get(1)\n",
    "a.get('1','no such key in this dictionary')"
   ]
  },
  {
   "cell_type": "code",
   "execution_count": 35,
   "id": "c61ff601",
   "metadata": {},
   "outputs": [
    {
     "data": {
      "text/plain": [
       "'TCTTAGTCATTCTAGGGAT'"
      ]
     },
     "execution_count": 35,
     "metadata": {},
     "output_type": "execute_result"
    }
   ],
   "source": [
    "nt_pairH = {'A':'T', 'T':'A', 'C':'G', 'G':'C'}\n",
    "\n",
    "orig_seq = input('enter your seq: ')\n",
    "temp_seq = orig_seq[::-1] # reversed(orig_seq)\n",
    "rev_seq = ''.join([nt_pairH.get(nt,'X') for nt in temp_seq])\n",
    "rev_seq"
   ]
  },
  {
   "cell_type": "code",
   "execution_count": 37,
   "id": "e3a3a5ec",
   "metadata": {},
   "outputs": [
    {
     "name": "stdout",
     "output_type": "stream",
     "text": [
      "['T', 'C', 'T', 'T', 'A', 'G', 'T', 'C', 'A', 'T', 'T', 'C', 'T', 'A', 'G', 'G', 'G', 'A', 'T']\n"
     ]
    }
   ],
   "source": [
    "print([nt_pairH.get(nt,'X') for nt in temp_seq])"
   ]
  },
  {
   "cell_type": "code",
   "execution_count": 38,
   "id": "268cf3c8",
   "metadata": {},
   "outputs": [],
   "source": [
    "# Change working directory in python\n",
    "import os"
   ]
  },
  {
   "cell_type": "code",
   "execution_count": 39,
   "id": "faff622e",
   "metadata": {},
   "outputs": [
    {
     "data": {
      "text/plain": [
       "'/Users/bumsoojoe/Desktop/Study/Bioinformatics_practice/lecture'"
      ]
     },
     "execution_count": 39,
     "metadata": {},
     "output_type": "execute_result"
    }
   ],
   "source": [
    "os.getcwd()"
   ]
  },
  {
   "cell_type": "code",
   "execution_count": 40,
   "id": "595b6b30",
   "metadata": {},
   "outputs": [
    {
     "data": {
      "text/plain": [
       "'/Users/bumsoojoe/Desktop'"
      ]
     },
     "execution_count": 40,
     "metadata": {},
     "output_type": "execute_result"
    }
   ],
   "source": [
    "os.chdir('/Users/bumsoojoe/Desktop')\n",
    "os.getcwd()"
   ]
  },
  {
   "cell_type": "code",
   "execution_count": null,
   "id": "4002673a",
   "metadata": {},
   "outputs": [
    {
     "data": {
      "text/plain": [
       "'/Users/bumsoojoe/Desktop/Study/Bioinformatics_practice/lecture'"
      ]
     },
     "execution_count": 41,
     "metadata": {},
     "output_type": "execute_result"
    }
   ],
   "source": [
    "os.chdir('/Users/bumsoojoe/Desktop/Study/Bioinformatics_practice/lecture')\n",
    "os.getcwd()"
   ]
  },
  {
   "cell_type": "code",
   "execution_count": null,
   "id": "7a355181",
   "metadata": {},
   "outputs": [],
   "source": []
  }
 ],
 "metadata": {
  "kernelspec": {
   "display_name": "deepcam",
   "language": "python",
   "name": "python3"
  },
  "language_info": {
   "codemirror_mode": {
    "name": "ipython",
    "version": 3
   },
   "file_extension": ".py",
   "mimetype": "text/x-python",
   "name": "python",
   "nbconvert_exporter": "python",
   "pygments_lexer": "ipython3",
   "version": "3.11.11"
  }
 },
 "nbformat": 4,
 "nbformat_minor": 5
}
