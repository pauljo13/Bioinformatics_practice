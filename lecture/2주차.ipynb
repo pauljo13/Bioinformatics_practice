{
 "cells": [
  {
   "cell_type": "code",
   "execution_count": 1,
   "id": "222c84f5",
   "metadata": {},
   "outputs": [
    {
     "data": {
      "text/plain": [
       "[1, 2, 'a', 'b']"
      ]
     },
     "execution_count": 1,
     "metadata": {},
     "output_type": "execute_result"
    }
   ],
   "source": [
    "# list\n",
    "[1,2] + ['a', 'b']"
   ]
  },
  {
   "cell_type": "code",
   "execution_count": 2,
   "id": "d1520276",
   "metadata": {},
   "outputs": [
    {
     "data": {
      "text/plain": [
       "[1, 2, 'a', 'b', ['a']]"
      ]
     },
     "execution_count": 2,
     "metadata": {},
     "output_type": "execute_result"
    }
   ],
   "source": [
    "[1,2] + ['a', 'b'] + [['a']]"
   ]
  },
  {
   "cell_type": "code",
   "execution_count": 4,
   "id": "64696e98",
   "metadata": {},
   "outputs": [
    {
     "data": {
      "text/plain": [
       "6"
      ]
     },
     "execution_count": 4,
     "metadata": {},
     "output_type": "execute_result"
    }
   ],
   "source": [
    "len([1,2] + ['a', 'b'] + [['a']]*2)"
   ]
  },
  {
   "cell_type": "code",
   "execution_count": 5,
   "id": "90493477",
   "metadata": {},
   "outputs": [
    {
     "name": "stdout",
     "output_type": "stream",
     "text": [
      "['I', 'need', 'to', 'study', 'Python']\n"
     ]
    }
   ],
   "source": [
    "tex = \"I need to study Python\"\n",
    "a = tex.split()\n",
    "print(a)"
   ]
  },
  {
   "cell_type": "code",
   "execution_count": 6,
   "id": "f07e4fa6",
   "metadata": {},
   "outputs": [
    {
     "data": {
      "text/plain": [
       "'I'"
      ]
     },
     "execution_count": 6,
     "metadata": {},
     "output_type": "execute_result"
    }
   ],
   "source": [
    "a[0]"
   ]
  },
  {
   "cell_type": "code",
   "execution_count": 7,
   "id": "b48d63cd",
   "metadata": {},
   "outputs": [
    {
     "data": {
      "text/plain": [
       "'Pyth'"
      ]
     },
     "execution_count": 7,
     "metadata": {},
     "output_type": "execute_result"
    }
   ],
   "source": [
    "a[4][:4]"
   ]
  },
  {
   "cell_type": "code",
   "execution_count": 8,
   "id": "d97c2b3c",
   "metadata": {},
   "outputs": [
    {
     "data": {
      "text/plain": [
       "'IPython'"
      ]
     },
     "execution_count": 8,
     "metadata": {},
     "output_type": "execute_result"
    }
   ],
   "source": [
    "a[0]+a[4]"
   ]
  },
  {
   "cell_type": "code",
   "execution_count": null,
   "id": "123bc474",
   "metadata": {},
   "outputs": [
    {
     "ename": "TypeError",
     "evalue": "list indices must be integers or slices, not tuple",
     "output_type": "error",
     "traceback": [
      "\u001b[0;31m---------------------------------------------------------------------------\u001b[0m",
      "\u001b[0;31mTypeError\u001b[0m                                 Traceback (most recent call last)",
      "Cell \u001b[0;32mIn[11], line 1\u001b[0m\n\u001b[0;32m----> 1\u001b[0m \u001b[43ma\u001b[49m\u001b[43m[\u001b[49m\u001b[38;5;241;43m0\u001b[39;49m\u001b[43m,\u001b[49m\u001b[38;5;241;43m4\u001b[39;49m\u001b[43m]\u001b[49m\n",
      "\u001b[0;31mTypeError\u001b[0m: list indices must be integers or slices, not tuple"
     ]
    }
   ],
   "source": [
    "a[0,4] # python에서는 멀티풀하가 가져 오는 것이 불가능하다.\n"
   ]
  },
  {
   "cell_type": "code",
   "execution_count": 9,
   "id": "035c9e9d",
   "metadata": {},
   "outputs": [
    {
     "data": {
      "text/plain": [
       "['I', 'need', 'to', 'study', 'Python']"
      ]
     },
     "execution_count": 9,
     "metadata": {},
     "output_type": "execute_result"
    }
   ],
   "source": [
    "a[:]"
   ]
  },
  {
   "cell_type": "code",
   "execution_count": null,
   "id": "d26f77cd",
   "metadata": {},
   "outputs": [
    {
     "data": {
      "text/plain": [
       "['Python', 'study', 'to', 'need', 'I']"
      ]
     },
     "execution_count": 10,
     "metadata": {},
     "output_type": "execute_result"
    }
   ],
   "source": [
    "a[::-1] # 거꾸로 가져와라"
   ]
  },
  {
   "cell_type": "code",
   "execution_count": 12,
   "id": "d653d849",
   "metadata": {},
   "outputs": [
    {
     "data": {
      "text/plain": [
       "'Python'"
      ]
     },
     "execution_count": 12,
     "metadata": {},
     "output_type": "execute_result"
    }
   ],
   "source": [
    "a[4]"
   ]
  },
  {
   "cell_type": "code",
   "execution_count": 13,
   "id": "46aff63e",
   "metadata": {},
   "outputs": [
    {
     "data": {
      "text/plain": [
       "['I', 'need', 'to', 'study', 'Java']"
      ]
     },
     "execution_count": 13,
     "metadata": {},
     "output_type": "execute_result"
    }
   ],
   "source": [
    "a[4] = \"Java\"\n",
    "a"
   ]
  },
  {
   "cell_type": "code",
   "execution_count": 14,
   "id": "e3306ca6",
   "metadata": {},
   "outputs": [
    {
     "data": {
      "text/plain": [
       "['I', 'need', 'to', 'study']"
      ]
     },
     "execution_count": 14,
     "metadata": {},
     "output_type": "execute_result"
    }
   ],
   "source": [
    "del a[4]\n",
    "a"
   ]
  },
  {
   "cell_type": "code",
   "execution_count": 16,
   "id": "e5298409",
   "metadata": {},
   "outputs": [
    {
     "data": {
      "text/plain": [
       "['I', 'need', 'to', 'study', 'Python', [2.7, 3.7], 'Python', [2.7, 3.7]]"
      ]
     },
     "execution_count": 16,
     "metadata": {},
     "output_type": "execute_result"
    }
   ],
   "source": [
    "a += ['Python',[2.7,3.7]]\n",
    "a"
   ]
  },
  {
   "cell_type": "code",
   "execution_count": 18,
   "id": "6799e720",
   "metadata": {},
   "outputs": [
    {
     "data": {
      "text/plain": [
       "6"
      ]
     },
     "execution_count": 18,
     "metadata": {},
     "output_type": "execute_result"
    }
   ],
   "source": [
    "a = ['I', 'need', 'to', 'study', 'Python', [2.7, 3.7]]\n",
    "len(a)"
   ]
  },
  {
   "cell_type": "code",
   "execution_count": 19,
   "id": "aed8911e",
   "metadata": {},
   "outputs": [
    {
     "data": {
      "text/plain": [
       "6"
      ]
     },
     "execution_count": 19,
     "metadata": {},
     "output_type": "execute_result"
    }
   ],
   "source": [
    "# Quiz\n",
    "a = [1,2,[3,4,5],6,['7','8']]\n",
    "a[3]"
   ]
  },
  {
   "cell_type": "code",
   "execution_count": 22,
   "id": "29ccb38e",
   "metadata": {},
   "outputs": [
    {
     "data": {
      "text/plain": [
       "5"
      ]
     },
     "execution_count": 22,
     "metadata": {},
     "output_type": "execute_result"
    }
   ],
   "source": [
    "a[2][-1]"
   ]
  },
  {
   "cell_type": "code",
   "execution_count": 26,
   "id": "85fb679f",
   "metadata": {},
   "outputs": [
    {
     "name": "stdout",
     "output_type": "stream",
     "text": [
      "7\n",
      "7.0\n"
     ]
    }
   ],
   "source": [
    "print(int(a[-1][0]))\n",
    "print(float(a[-1][0]))"
   ]
  },
  {
   "cell_type": "code",
   "execution_count": 24,
   "id": "2f7d29e2",
   "metadata": {},
   "outputs": [
    {
     "data": {
      "text/plain": [
       "[4, 5]"
      ]
     },
     "execution_count": 24,
     "metadata": {},
     "output_type": "execute_result"
    }
   ],
   "source": [
    "a[2][1:]"
   ]
  },
  {
   "cell_type": "code",
   "execution_count": 27,
   "id": "0fc8e6b9",
   "metadata": {},
   "outputs": [
    {
     "data": {
      "text/plain": [
       "['A', 'T', 'C', 'G']"
      ]
     },
     "execution_count": 27,
     "metadata": {},
     "output_type": "execute_result"
    }
   ],
   "source": [
    "# Useful functions in list\n",
    "## Join\n",
    "a = ['A', 'T', 'C', 'G']\n",
    "a"
   ]
  },
  {
   "cell_type": "code",
   "execution_count": 28,
   "id": "7a1e4272",
   "metadata": {},
   "outputs": [
    {
     "data": {
      "text/plain": [
       "'A:T:C:G'"
      ]
     },
     "execution_count": 28,
     "metadata": {},
     "output_type": "execute_result"
    }
   ],
   "source": [
    "':'.join(a)"
   ]
  },
  {
   "cell_type": "code",
   "execution_count": 30,
   "id": "fb2c380a",
   "metadata": {},
   "outputs": [
    {
     "name": "stdout",
     "output_type": "stream",
     "text": [
      "A\n",
      "T\n",
      "C\n",
      "G\n"
     ]
    }
   ],
   "source": [
    "print('\\n'.join(a))"
   ]
  },
  {
   "cell_type": "code",
   "execution_count": 31,
   "id": "7d4d4d3f",
   "metadata": {},
   "outputs": [
    {
     "data": {
      "text/plain": [
       "1"
      ]
     },
     "execution_count": 31,
     "metadata": {},
     "output_type": "execute_result"
    }
   ],
   "source": [
    "## count\n",
    "a.count('A')"
   ]
  },
  {
   "cell_type": "code",
   "execution_count": null,
   "id": "7fbc534f",
   "metadata": {},
   "outputs": [
    {
     "name": "stdout",
     "output_type": "stream",
     "text": [
      "['A', 'T', 'C', 'G']\n",
      "['A', 'T', 'C', 'G', 'N']\n",
      "['A', 'T', 'C', 'G', 'N', ['A', 'G', 'C', 'T']]\n"
     ]
    },
    {
     "ename": "TypeError",
     "evalue": "append() takes exactly one argument (2 given)",
     "output_type": "error",
     "traceback": [
      "\u001b[0;31m---------------------------------------------------------------------------\u001b[0m",
      "\u001b[0;31mTypeError\u001b[0m                                 Traceback (most recent call last)",
      "Cell \u001b[0;32mIn[32], line 7\u001b[0m\n\u001b[1;32m      5\u001b[0m a\u001b[38;5;241m.\u001b[39mappend([\u001b[38;5;124m'\u001b[39m\u001b[38;5;124mA\u001b[39m\u001b[38;5;124m'\u001b[39m,\u001b[38;5;124m'\u001b[39m\u001b[38;5;124mG\u001b[39m\u001b[38;5;124m'\u001b[39m,\u001b[38;5;124m'\u001b[39m\u001b[38;5;124mC\u001b[39m\u001b[38;5;124m'\u001b[39m,\u001b[38;5;124m'\u001b[39m\u001b[38;5;124mT\u001b[39m\u001b[38;5;124m'\u001b[39m])\n\u001b[1;32m      6\u001b[0m \u001b[38;5;28mprint\u001b[39m(a)\n\u001b[0;32m----> 7\u001b[0m \u001b[43ma\u001b[49m\u001b[38;5;241;43m.\u001b[39;49m\u001b[43mappend\u001b[49m\u001b[43m(\u001b[49m\u001b[38;5;124;43m'\u001b[39;49m\u001b[38;5;124;43mA\u001b[39;49m\u001b[38;5;124;43m'\u001b[39;49m\u001b[43m,\u001b[49m\u001b[38;5;124;43m'\u001b[39;49m\u001b[38;5;124;43mT\u001b[39;49m\u001b[38;5;124;43m'\u001b[39;49m\u001b[43m)\u001b[49m\n",
      "\u001b[0;31mTypeError\u001b[0m: append() takes exactly one argument (2 given)"
     ]
    }
   ],
   "source": [
    "## Append - list.append(item)\n",
    "print(a)\n",
    "a.append('N')\n",
    "print(a)\n",
    "a.append(['A','G','C','T'])\n",
    "print(a)\n",
    "a.append('A','T') # 한개만 가능하다."
   ]
  },
  {
   "cell_type": "code",
   "execution_count": null,
   "id": "925d750d",
   "metadata": {},
   "outputs": [
    {
     "name": "stdout",
     "output_type": "stream",
     "text": [
      "['A', 'T', 'C', 'G', ['N']]\n",
      "['A', 'T', 'C', 'G', ['N'], 'N']\n"
     ]
    }
   ],
   "source": [
    "## Extend - 두개를 각각 append 시킨다.\n",
    "a = ['A', 'T', 'C', 'G']\n",
    "a.append(['N'])\n",
    "print(a)\n",
    "a.extend(['N'])\n",
    "print(a)"
   ]
  },
  {
   "cell_type": "code",
   "execution_count": 34,
   "id": "8d647db8",
   "metadata": {},
   "outputs": [
    {
     "name": "stdout",
     "output_type": "stream",
     "text": [
      "['A', 'T', 'C', 'G']\n",
      "['A', 'C', 'G', 'T']\n"
     ]
    }
   ],
   "source": [
    "## Sort - list.sort(key-..., reverse=...)\n",
    "a = ['A', 'T', 'C', 'G']\n",
    "print(a)\n",
    "a.sort()\n",
    "print(a)"
   ]
  },
  {
   "cell_type": "code",
   "execution_count": 36,
   "id": "008b8d2d",
   "metadata": {},
   "outputs": [
    {
     "data": {
      "text/plain": [
       "['T', 'G', 'C', 'A']"
      ]
     },
     "execution_count": 36,
     "metadata": {},
     "output_type": "execute_result"
    }
   ],
   "source": [
    "a.sort(reverse=True)\n",
    "a"
   ]
  },
  {
   "cell_type": "code",
   "execution_count": 37,
   "id": "ffde06de",
   "metadata": {},
   "outputs": [
    {
     "data": {
      "text/plain": [
       "['3210', '654', '87', '9']"
      ]
     },
     "execution_count": 37,
     "metadata": {},
     "output_type": "execute_result"
    }
   ],
   "source": [
    "a = ['9', '87', '654', '3210']\n",
    "sorted(a)"
   ]
  },
  {
   "cell_type": "code",
   "execution_count": 38,
   "id": "2093d8bd",
   "metadata": {},
   "outputs": [
    {
     "data": {
      "text/plain": [
       "['9', '87', '654', '3210']"
      ]
     },
     "execution_count": 38,
     "metadata": {},
     "output_type": "execute_result"
    }
   ],
   "source": [
    "sorted(a,reverse = True)"
   ]
  },
  {
   "cell_type": "code",
   "execution_count": 40,
   "id": "cd26c9fb",
   "metadata": {},
   "outputs": [
    {
     "data": {
      "text/plain": [
       "['9', '87', '654', '3210']"
      ]
     },
     "execution_count": 40,
     "metadata": {},
     "output_type": "execute_result"
    }
   ],
   "source": [
    "sorted(a,key=len)"
   ]
  },
  {
   "cell_type": "code",
   "execution_count": null,
   "id": "24bd5673",
   "metadata": {},
   "outputs": [
    {
     "data": {
      "text/plain": [
       "['9', '87', '654', '3210']"
      ]
     },
     "execution_count": 41,
     "metadata": {},
     "output_type": "execute_result"
    }
   ],
   "source": [
    "a # sorted는 자체에 적용은 되지 않는다."
   ]
  },
  {
   "cell_type": "code",
   "execution_count": 44,
   "id": "df18e54b",
   "metadata": {},
   "outputs": [
    {
     "data": {
      "text/plain": [
       "['G', 'C', 'T', 'A']"
      ]
     },
     "execution_count": 44,
     "metadata": {},
     "output_type": "execute_result"
    }
   ],
   "source": [
    "## Reverse - list.reverse() 바로 적용된다.\n",
    "a = ['A', 'T', 'C', 'G']\n",
    "a.reverse()\n",
    "a"
   ]
  },
  {
   "cell_type": "code",
   "execution_count": 47,
   "id": "c835e83d",
   "metadata": {},
   "outputs": [
    {
     "name": "stdout",
     "output_type": "stream",
     "text": [
      "0\n",
      "0\n",
      "5\n",
      "['A', 'T', 'C', 'G', 'A', ['N']]\n"
     ]
    }
   ],
   "source": [
    "## Index – list.index(element, start, end)\n",
    "a = ['A', 'T', 'C', 'G']\n",
    "print(a.index('A'))\n",
    "a.append('A')\n",
    "print(a.index('A'))\n",
    "a.append(['N'])\n",
    "print(a.index(['N']))\n",
    "print(a)"
   ]
  },
  {
   "cell_type": "code",
   "execution_count": 49,
   "id": "5b9242f0",
   "metadata": {},
   "outputs": [
    {
     "name": "stdout",
     "output_type": "stream",
     "text": [
      "[0, 1, 2, 3]\n",
      "[0, 1, 2, 3, -1]\n",
      "[-1, 0, 1, 2, 3, -1]\n"
     ]
    }
   ],
   "source": [
    "## Insert – list.insert(index, item)\n",
    "a = [i for i in range(0,4)]\n",
    "print(a)\n",
    "a.append(-1)\n",
    "print(a)\n",
    "a.insert(0,-1)\n",
    "print(a)"
   ]
  },
  {
   "cell_type": "code",
   "execution_count": 51,
   "id": "53105a23",
   "metadata": {},
   "outputs": [
    {
     "name": "stdout",
     "output_type": "stream",
     "text": [
      "[1, 2, 3, -1]\n"
     ]
    }
   ],
   "source": [
    "## Insert – list.remove(element)\n",
    "### index을 알고 있으면 del\n",
    "### index을 모르면 remove\n",
    "del a[0]\n",
    "print(a)\n"
   ]
  },
  {
   "cell_type": "code",
   "execution_count": 52,
   "id": "f9ff09d6",
   "metadata": {},
   "outputs": [
    {
     "name": "stdout",
     "output_type": "stream",
     "text": [
      "['I', 'do', 'not', 'need', 'to', 'study', 'programming']\n",
      "['I', 'do', 'need', 'to', 'study', 'programming']\n"
     ]
    }
   ],
   "source": [
    "# Quiz\n",
    "a=['I','do','not','need','to','study','programming']\n",
    "print(a)\n",
    "del a[a.index(\"not\")]\n",
    "print(a)\n"
   ]
  },
  {
   "cell_type": "code",
   "execution_count": 53,
   "id": "8904c867",
   "metadata": {},
   "outputs": [
    {
     "name": "stdout",
     "output_type": "stream",
     "text": [
      "['I', 'do', 'not', 'need', 'to', 'study', 'programming']\n",
      "['I', 'do', 'need', 'to', 'study', 'programming']\n"
     ]
    }
   ],
   "source": [
    "a=['I','do','not','need','to','study','programming']\n",
    "print(a)\n",
    "a.remove('not')\n",
    "print(a)"
   ]
  },
  {
   "cell_type": "code",
   "execution_count": 56,
   "id": "645381d2",
   "metadata": {},
   "outputs": [
    {
     "name": "stdout",
     "output_type": "stream",
     "text": [
      "[0, 1, 2, 3, 4]\n",
      "[0, 1, 2, 3]\n",
      "[0, 1, 3]\n",
      "[0, 3]\n"
     ]
    }
   ],
   "source": [
    "# pop – list.pop(index) Default: last index\n",
    "a = [i for i in range(0,5)]\n",
    "print(a)\n",
    "a.pop()\n",
    "print(a)\n",
    "a.pop(2)\n",
    "print(a)\n",
    "a_idx = a.pop(1)\n",
    "print(a)"
   ]
  },
  {
   "cell_type": "code",
   "execution_count": 58,
   "id": "645fa066",
   "metadata": {},
   "outputs": [
    {
     "name": "stdout",
     "output_type": "stream",
     "text": [
      "[0, 1, 2, 3] \n",
      " [0, 1, 2, 3]\n",
      "[1, 2, 3] \n",
      " [1, 2, 3]\n",
      "[0, 1, 2, 3] \n",
      " [0, 1, 2, 3]\n",
      "[1, 2, 3] \n",
      " [0, 1, 2, 3]\n"
     ]
    }
   ],
   "source": [
    "# Copy – list.copy()\n",
    "a = [i for i in range(0,4)]\n",
    "b = a\n",
    "print(a, '\\n', b)\n",
    "a.pop(0)\n",
    "print(a, '\\n', b)\n",
    "\n",
    "\n",
    "a = [i for i in range(0,4)]\n",
    "b = a.copy()\n",
    "print(a, '\\n', b)\n",
    "a.pop(0)\n",
    "print(a, '\\n', b)"
   ]
  },
  {
   "cell_type": "markdown",
   "id": "43b6db2d",
   "metadata": {},
   "source": [
    "## Tuple\n",
    "Tuples are basically same with lists, but they are immutable, and defined by ().  \n",
    "**수정이 불가능 하다**"
   ]
  },
  {
   "cell_type": "code",
   "execution_count": 59,
   "id": "3c3e2e29",
   "metadata": {},
   "outputs": [
    {
     "name": "stdout",
     "output_type": "stream",
     "text": [
      "('this', 'is', 'a', 'tuple', 'not', 'list')\n",
      "('a', 'tuple', 'not', 'list')\n"
     ]
    },
    {
     "ename": "TypeError",
     "evalue": "'tuple' object does not support item assignment",
     "output_type": "error",
     "traceback": [
      "\u001b[0;31m---------------------------------------------------------------------------\u001b[0m",
      "\u001b[0;31mTypeError\u001b[0m                                 Traceback (most recent call last)",
      "Cell \u001b[0;32mIn[59], line 4\u001b[0m\n\u001b[1;32m      2\u001b[0m \u001b[38;5;28mprint\u001b[39m(a)\n\u001b[1;32m      3\u001b[0m \u001b[38;5;28mprint\u001b[39m(a[\u001b[38;5;241m2\u001b[39m:])\n\u001b[0;32m----> 4\u001b[0m \u001b[43ma\u001b[49m\u001b[43m[\u001b[49m\u001b[38;5;241;43m-\u001b[39;49m\u001b[38;5;241;43m1\u001b[39;49m\u001b[43m]\u001b[49m \u001b[38;5;241m=\u001b[39m \u001b[38;5;124m'\u001b[39m\u001b[38;5;124mstring\u001b[39m\u001b[38;5;124m'\u001b[39m\n",
      "\u001b[0;31mTypeError\u001b[0m: 'tuple' object does not support item assignment"
     ]
    }
   ],
   "source": [
    "a= ('this','is','a','tuple','not','list')\n",
    "print(a)\n",
    "print(a[2:])\n",
    "a[-1] = 'string'"
   ]
  },
  {
   "cell_type": "code",
   "execution_count": 60,
   "id": "79797dfd",
   "metadata": {},
   "outputs": [
    {
     "ename": "AttributeError",
     "evalue": "'tuple' object has no attribute 'append'",
     "output_type": "error",
     "traceback": [
      "\u001b[0;31m---------------------------------------------------------------------------\u001b[0m",
      "\u001b[0;31mAttributeError\u001b[0m                            Traceback (most recent call last)",
      "Cell \u001b[0;32mIn[60], line 1\u001b[0m\n\u001b[0;32m----> 1\u001b[0m \u001b[43ma\u001b[49m\u001b[38;5;241;43m.\u001b[39;49m\u001b[43mappend\u001b[49m(\u001b[38;5;124m'\u001b[39m\u001b[38;5;124mstring\u001b[39m\u001b[38;5;124m'\u001b[39m)\n",
      "\u001b[0;31mAttributeError\u001b[0m: 'tuple' object has no attribute 'append'"
     ]
    }
   ],
   "source": [
    "a.append('string')"
   ]
  },
  {
   "cell_type": "markdown",
   "id": "108f5cd8",
   "metadata": {},
   "source": [
    "## Set\n",
    "Sets are unique & non-ordered collections of immutable objects. They directly\n",
    "implement the mathematical concept of a set.  \n",
    "  \n",
    "집합과 비슷하다. 표현도 비슷하다.  \n",
    "중복이 불가능하고 숫서가 없다.  \n",
    "리스트는 들어올 수 없다 -> 안정적인 것만 들어올 수 있다."
   ]
  },
  {
   "cell_type": "code",
   "execution_count": 61,
   "id": "d0b58749",
   "metadata": {},
   "outputs": [
    {
     "data": {
      "text/plain": [
       "{(1, 2, 3)}"
      ]
     },
     "execution_count": 61,
     "metadata": {},
     "output_type": "execute_result"
    }
   ],
   "source": [
    "{(1,2,3)}"
   ]
  },
  {
   "cell_type": "code",
   "execution_count": 62,
   "id": "4b532140",
   "metadata": {},
   "outputs": [
    {
     "ename": "TypeError",
     "evalue": "unhashable type: 'list'",
     "output_type": "error",
     "traceback": [
      "\u001b[0;31m---------------------------------------------------------------------------\u001b[0m",
      "\u001b[0;31mTypeError\u001b[0m                                 Traceback (most recent call last)",
      "Cell \u001b[0;32mIn[62], line 1\u001b[0m\n\u001b[0;32m----> 1\u001b[0m {[\u001b[38;5;241m1\u001b[39m,\u001b[38;5;241m2\u001b[39m,\u001b[38;5;241m3\u001b[39m]}\n",
      "\u001b[0;31mTypeError\u001b[0m: unhashable type: 'list'"
     ]
    }
   ],
   "source": [
    "{[1,2,3]}"
   ]
  },
  {
   "cell_type": "code",
   "execution_count": 63,
   "id": "6aee7b76",
   "metadata": {},
   "outputs": [
    {
     "name": "stdout",
     "output_type": "stream",
     "text": [
      "[1, 2, 3, 4, 4, 5, 6, 7, 8]\n"
     ]
    }
   ],
   "source": [
    "a=[1,2,3,4,4,5,6,7,8]\n",
    "print(a)"
   ]
  },
  {
   "cell_type": "code",
   "execution_count": 65,
   "id": "f1ded990",
   "metadata": {},
   "outputs": [
    {
     "name": "stdout",
     "output_type": "stream",
     "text": [
      "{1, 2, 3, 4, 5, 6, 7, 8}\n"
     ]
    }
   ],
   "source": [
    "a = set(a)\n",
    "print(a)"
   ]
  },
  {
   "cell_type": "code",
   "execution_count": 66,
   "id": "9f00f98b",
   "metadata": {},
   "outputs": [
    {
     "name": "stdout",
     "output_type": "stream",
     "text": [
      "[1, 2, 3, 4, 5, 6, 7, 8]\n"
     ]
    }
   ],
   "source": [
    "a = list(set(a))\n",
    "print(a)"
   ]
  },
  {
   "cell_type": "code",
   "execution_count": 67,
   "id": "96e19aa2",
   "metadata": {},
   "outputs": [
    {
     "name": "stdout",
     "output_type": "stream",
     "text": [
      "{1, 2, 3}\n"
     ]
    }
   ],
   "source": [
    "a=(1,2,2,3)\n",
    "print(set(a))"
   ]
  },
  {
   "cell_type": "code",
   "execution_count": 68,
   "id": "6f0d33ae",
   "metadata": {},
   "outputs": [
    {
     "name": "stdout",
     "output_type": "stream",
     "text": [
      "{3}\n",
      "{1, 2, 3, 4, 5}\n",
      "{1, 2}\n",
      "{1, 2, 4, 5}\n"
     ]
    }
   ],
   "source": [
    "# 집합처럼 사용할 수 있다.\n",
    "a = {1, 2, 3}\n",
    "b = {3, 4, 5}\n",
    "print(set(a) & set(b))\n",
    "print(set(a) | set(b))\n",
    "print(set(a) - set(b))\n",
    "print(set(a) ^ set(b))"
   ]
  },
  {
   "cell_type": "code",
   "execution_count": 76,
   "id": "d21a1e49",
   "metadata": {},
   "outputs": [
    {
     "name": "stdout",
     "output_type": "stream",
     "text": [
      "[2, 4, 6, 8, 10, 12]\n",
      "(3, 6, 9, 12, 15)\n",
      "{12, 6}\n",
      "[12, 6]\n"
     ]
    }
   ],
   "source": [
    "# Quiz\n",
    "a = [i for i in range(2,13,2)]\n",
    "print(a)\n",
    "b = (3, 6, 9, 12, 15)\n",
    "print(b)\n",
    "c = list(set(a) & set(b))\n",
    "print(set(a) & set(b))\n",
    "print(c)"
   ]
  },
  {
   "cell_type": "markdown",
   "id": "07bc9058",
   "metadata": {},
   "source": [
    "## Dictionary\n",
    "Dictionaries are unordered containers that provide a mapping\n",
    "association between keys and values (hash).\n",
    "Each key should be unique.  \n",
    "  \n",
    "Key : values"
   ]
  },
  {
   "cell_type": "code",
   "execution_count": 80,
   "id": "87e849ac",
   "metadata": {},
   "outputs": [
    {
     "name": "stdout",
     "output_type": "stream",
     "text": [
      "4\n",
      "{'a': 1, 'b': 2, 'c': 3, 'z': 26, 'y': 25}\n",
      "{'a': 1, 'b': 2, 'c': 3, 'z': 26, 'y': 25, 'ab': (1, 2)}\n",
      "{'a': 100, 'b': 2, 'c': 3, 'z': 26, 'y': 25, 'ab': (1, 2)}\n",
      "{'b': 2, 'c': 3, 'z': 26, 'y': 25, 'ab': (1, 2)}\n"
     ]
    }
   ],
   "source": [
    "dict_a = {'a': 1, 'b': 2, 'c': 3, 'z': 26}\n",
    "print(len(dict_a))\n",
    "\n",
    "dict_a['y'] = 25\n",
    "print(dict_a)\n",
    "\n",
    "dict_a['ab'] = (1,2)\n",
    "print(dict_a)\n",
    "\n",
    "dict_a['a']=100\n",
    "print(dict_a)\n",
    "\n",
    "del dict_a['a']\n",
    "print(dict_a)"
   ]
  },
  {
   "cell_type": "code",
   "execution_count": null,
   "id": "5fd8f7c0",
   "metadata": {},
   "outputs": [
    {
     "name": "stdout",
     "output_type": "stream",
     "text": [
      "one\n"
     ]
    },
    {
     "ename": "KeyError",
     "evalue": "'1'",
     "output_type": "error",
     "traceback": [
      "\u001b[0;31m---------------------------------------------------------------------------\u001b[0m",
      "\u001b[0;31mKeyError\u001b[0m                                  Traceback (most recent call last)",
      "Cell \u001b[0;32mIn[82], line 3\u001b[0m\n\u001b[1;32m      1\u001b[0m a \u001b[38;5;241m=\u001b[39m {\u001b[38;5;241m1\u001b[39m: \u001b[38;5;124m'\u001b[39m\u001b[38;5;124mone\u001b[39m\u001b[38;5;124m'\u001b[39m, \u001b[38;5;241m2\u001b[39m: \u001b[38;5;124m'\u001b[39m\u001b[38;5;124mtwo\u001b[39m\u001b[38;5;124m'\u001b[39m, \u001b[38;5;241m3\u001b[39m: \u001b[38;5;124m'\u001b[39m\u001b[38;5;124mthree\u001b[39m\u001b[38;5;124m'\u001b[39m}\n\u001b[1;32m      2\u001b[0m \u001b[38;5;28mprint\u001b[39m(a[\u001b[38;5;241m1\u001b[39m])\n\u001b[0;32m----> 3\u001b[0m \u001b[43ma\u001b[49m\u001b[43m[\u001b[49m\u001b[38;5;124;43m'\u001b[39;49m\u001b[38;5;124;43m1\u001b[39;49m\u001b[38;5;124;43m'\u001b[39;49m\u001b[43m]\u001b[49m\n",
      "\u001b[0;31mKeyError\u001b[0m: '1'"
     ]
    }
   ],
   "source": [
    "a = {1: 'one', 2: 'two', 3: 'three'}\n",
    "print(a[1])\n",
    "a['1']"
   ]
  },
  {
   "cell_type": "code",
   "execution_count": 83,
   "id": "1921e28c",
   "metadata": {},
   "outputs": [
    {
     "data": {
      "text/plain": [
       "'one'"
      ]
     },
     "execution_count": 83,
     "metadata": {},
     "output_type": "execute_result"
    }
   ],
   "source": [
    "a.get(1)"
   ]
  },
  {
   "cell_type": "code",
   "execution_count": null,
   "id": "818bc12a",
   "metadata": {},
   "outputs": [
    {
     "data": {
      "text/plain": [
       "'no such key in this dictionary'"
      ]
     },
     "execution_count": 84,
     "metadata": {},
     "output_type": "execute_result"
    }
   ],
   "source": [
    "a.get('1','no such key in this dictionary') # 값이 없으면 대시하는 값을 출력할 수 있다. "
   ]
  },
  {
   "cell_type": "code",
   "execution_count": 86,
   "id": "3b36d9b2",
   "metadata": {},
   "outputs": [
    {
     "data": {
      "text/plain": [
       "dict_keys([1, 2, 3])"
      ]
     },
     "execution_count": 86,
     "metadata": {},
     "output_type": "execute_result"
    }
   ],
   "source": [
    "a.keys()"
   ]
  },
  {
   "cell_type": "code",
   "execution_count": 87,
   "id": "a57f26e6",
   "metadata": {},
   "outputs": [
    {
     "data": {
      "text/plain": [
       "dict_values(['one', 'two', 'three'])"
      ]
     },
     "execution_count": 87,
     "metadata": {},
     "output_type": "execute_result"
    }
   ],
   "source": [
    "a.values()"
   ]
  },
  {
   "cell_type": "code",
   "execution_count": null,
   "id": "59bf69cb",
   "metadata": {},
   "outputs": [
    {
     "data": {
      "text/plain": [
       "dict_items([(1, 'one'), (2, 'two'), (3, 'three')])"
      ]
     },
     "execution_count": 88,
     "metadata": {},
     "output_type": "execute_result"
    }
   ],
   "source": [
    "a.items() # Tuple 형태로 가져옴"
   ]
  },
  {
   "cell_type": "code",
   "execution_count": 89,
   "id": "d19fcfc1",
   "metadata": {},
   "outputs": [
    {
     "name": "stdout",
     "output_type": "stream",
     "text": [
      "{1: 'one', 2: 'two', 3: 'three', 4: 'four'}\n",
      "{1: 'one', 2: 'twoo', 3: 'three', 4: 'four'}\n"
     ]
    },
    {
     "ename": "TypeError",
     "evalue": "unsupported operand type(s) for +: 'dict' and 'dict'",
     "output_type": "error",
     "traceback": [
      "\u001b[0;31m---------------------------------------------------------------------------\u001b[0m",
      "\u001b[0;31mTypeError\u001b[0m                                 Traceback (most recent call last)",
      "Cell \u001b[0;32mIn[89], line 8\u001b[0m\n\u001b[1;32m      5\u001b[0m \u001b[38;5;28mprint\u001b[39m(a)\n\u001b[1;32m      7\u001b[0m a2 \u001b[38;5;241m=\u001b[39m {\u001b[38;5;241m2\u001b[39m: \u001b[38;5;124m'\u001b[39m\u001b[38;5;124mtwo\u001b[39m\u001b[38;5;124m'\u001b[39m, \u001b[38;5;241m5\u001b[39m: \u001b[38;5;124m'\u001b[39m\u001b[38;5;124mfive\u001b[39m\u001b[38;5;124m'\u001b[39m}\n\u001b[0;32m----> 8\u001b[0m \u001b[43ma\u001b[49m\u001b[43m \u001b[49m\u001b[38;5;241;43m+\u001b[39;49m\u001b[43m \u001b[49m\u001b[43ma2\u001b[49m\n",
      "\u001b[0;31mTypeError\u001b[0m: unsupported operand type(s) for +: 'dict' and 'dict'"
     ]
    }
   ],
   "source": [
    "a.update({4: 'four'})\n",
    "print(a)\n",
    "\n",
    "a.update({2: 'twoo'})\n",
    "print(a)\n",
    "\n",
    "a2 = {2: 'two', 5: 'five'}\n",
    "a + a2"
   ]
  },
  {
   "cell_type": "code",
   "execution_count": 90,
   "id": "c12b7994",
   "metadata": {},
   "outputs": [
    {
     "name": "stdout",
     "output_type": "stream",
     "text": [
      "{1: 'one', 2: 'two', 3: 'three', 4: 'four', 5: 'five'}\n"
     ]
    }
   ],
   "source": [
    "a.update(a2)\n",
    "print(a)"
   ]
  },
  {
   "cell_type": "code",
   "execution_count": null,
   "id": "e97e2876",
   "metadata": {},
   "outputs": [
    {
     "name": "stdout",
     "output_type": "stream",
     "text": [
      "5\n",
      "['EGFR', 'KRAS', 'PTEN', 'GAPDH', 'ACTB']\n",
      "['ACTB', 'EGFR', 'GAPDH', 'KRAS', 'PTEN']\n",
      "3\n"
     ]
    }
   ],
   "source": [
    "# Quiz\n",
    "gene_func_dict = {'EGFR': 'oncogene', 'KRAS': 'oncogene', 'PTEN': 'TSG', 'GAPDH': 'house', 'ACTB': 'house'}\n",
    "print(len(gene_func_dict.keys()))\n",
    "lis_1 = list(gene_func_dict.keys())\n",
    "print(lis_1)\n",
    "lis_1.sort()\n",
    "print(lis_1)\n",
    "print(len(set(gene_func_dict.values())))"
   ]
  },
  {
   "cell_type": "code",
   "execution_count": null,
   "id": "6dc6f156",
   "metadata": {},
   "outputs": [],
   "source": []
  }
 ],
 "metadata": {
  "kernelspec": {
   "display_name": "myenv",
   "language": "python",
   "name": "python3"
  },
  "language_info": {
   "codemirror_mode": {
    "name": "ipython",
    "version": 3
   },
   "file_extension": ".py",
   "mimetype": "text/x-python",
   "name": "python",
   "nbconvert_exporter": "python",
   "pygments_lexer": "ipython3",
   "version": "3.8.20"
  }
 },
 "nbformat": 4,
 "nbformat_minor": 5
}
